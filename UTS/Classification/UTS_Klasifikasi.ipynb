{
  "cells": [
    {
      "cell_type": "markdown",
      "metadata": {
        "id": "AuoRAFsYTxxj"
      },
      "source": [
        "# Buat pipeline end‑to‑end untuk klasifikasi model machine learning:\n",
        "\n",
        "## 1. Pengumpulan & Pembersihan Data\n",
        "\n",
        "### Import library yang diperlukan"
      ]
    },
    {
      "cell_type": "code",
      "execution_count": 1,
      "metadata": {
        "id": "X0MDLXEkT8Zk"
      },
      "outputs": [],
      "source": [
        "from google.colab import drive\n",
        "import pandas as pd\n",
        "import numpy as np\n",
        "import matplotlib.pyplot as plt\n",
        "import seaborn as sns\n",
        "from sklearn.model_selection import train_test_split, GridSearchCV, cross_val_score\n",
        "from sklearn.preprocessing import StandardScaler, RobustScaler\n",
        "from sklearn.feature_selection import SelectKBest, chi2, f_classif, mutual_info_classif, VarianceThreshold\n",
        "from sklearn.metrics import accuracy_score, precision_score, recall_score, f1_score, confusion_matrix, roc_curve, auc, roc_auc_score, classification_report, precision_recall_curve\n",
        "from sklearn.pipeline import Pipeline\n",
        "from sklearn.linear_model import LogisticRegression\n",
        "from sklearn.tree import DecisionTreeClassifier\n",
        "from sklearn.neighbors import KNeighborsClassifier\n",
        "from sklearn.ensemble import RandomForestClassifier, GradientBoostingClassifier, BaggingClassifier, AdaBoostClassifier\n",
        "from sklearn.svm import LinearSVC\n",
        "from imblearn.over_sampling import SMOTE\n",
        "import warnings\n",
        "warnings.filterwarnings('ignore')\n",
        "\n",
        "# Set tema untuk visualisasi\n",
        "sns.set(style=\"whitegrid\")\n",
        "plt.rcParams['figure.figsize'] = (12, 8)"
      ]
    },
    {
      "cell_type": "markdown",
      "metadata": {
        "id": "pcdTGKN1T9Ra"
      },
      "source": [
        "### Memuat data"
      ]
    },
    {
      "cell_type": "code",
      "execution_count": 2,
      "metadata": {
        "colab": {
          "base_uri": "https://localhost:8080/",
          "height": 933
        },
        "id": "-PqUIEKSUBjI",
        "outputId": "710df95d-91ec-4712-f98b-ad1d538c2dec"
      },
      "outputs": [
        {
          "output_type": "stream",
          "name": "stdout",
          "text": [
            "Mounted at /content/drive\n",
            "<class 'pandas.core.frame.DataFrame'>\n",
            "RangeIndex: 284807 entries, 0 to 284806\n",
            "Data columns (total 31 columns):\n",
            " #   Column  Non-Null Count   Dtype  \n",
            "---  ------  --------------   -----  \n",
            " 0   Time    284807 non-null  float64\n",
            " 1   V1      284807 non-null  float64\n",
            " 2   V2      284807 non-null  float64\n",
            " 3   V3      284807 non-null  float64\n",
            " 4   V4      284807 non-null  float64\n",
            " 5   V5      284807 non-null  float64\n",
            " 6   V6      284807 non-null  float64\n",
            " 7   V7      284807 non-null  float64\n",
            " 8   V8      284807 non-null  float64\n",
            " 9   V9      284807 non-null  float64\n",
            " 10  V10     284807 non-null  float64\n",
            " 11  V11     284807 non-null  float64\n",
            " 12  V12     284807 non-null  float64\n",
            " 13  V13     284807 non-null  float64\n",
            " 14  V14     284807 non-null  float64\n",
            " 15  V15     284807 non-null  float64\n",
            " 16  V16     284807 non-null  float64\n",
            " 17  V17     284807 non-null  float64\n",
            " 18  V18     284807 non-null  float64\n",
            " 19  V19     284807 non-null  float64\n",
            " 20  V20     284807 non-null  float64\n",
            " 21  V21     284807 non-null  float64\n",
            " 22  V22     284807 non-null  float64\n",
            " 23  V23     284807 non-null  float64\n",
            " 24  V24     284807 non-null  float64\n",
            " 25  V25     284807 non-null  float64\n",
            " 26  V26     284807 non-null  float64\n",
            " 27  V27     284807 non-null  float64\n",
            " 28  V28     284807 non-null  float64\n",
            " 29  Amount  284807 non-null  float64\n",
            " 30  Class   284807 non-null  int64  \n",
            "dtypes: float64(30), int64(1)\n",
            "memory usage: 67.4 MB\n"
          ]
        },
        {
          "output_type": "execute_result",
          "data": {
            "text/plain": [
              "   Time        V1        V2        V3        V4        V5        V6        V7  \\\n",
              "0   0.0 -1.359807 -0.072781  2.536347  1.378155 -0.338321  0.462388  0.239599   \n",
              "1   0.0  1.191857  0.266151  0.166480  0.448154  0.060018 -0.082361 -0.078803   \n",
              "2   1.0 -1.358354 -1.340163  1.773209  0.379780 -0.503198  1.800499  0.791461   \n",
              "3   1.0 -0.966272 -0.185226  1.792993 -0.863291 -0.010309  1.247203  0.237609   \n",
              "4   2.0 -1.158233  0.877737  1.548718  0.403034 -0.407193  0.095921  0.592941   \n",
              "\n",
              "         V8        V9  ...       V21       V22       V23       V24       V25  \\\n",
              "0  0.098698  0.363787  ... -0.018307  0.277838 -0.110474  0.066928  0.128539   \n",
              "1  0.085102 -0.255425  ... -0.225775 -0.638672  0.101288 -0.339846  0.167170   \n",
              "2  0.247676 -1.514654  ...  0.247998  0.771679  0.909412 -0.689281 -0.327642   \n",
              "3  0.377436 -1.387024  ... -0.108300  0.005274 -0.190321 -1.175575  0.647376   \n",
              "4 -0.270533  0.817739  ... -0.009431  0.798278 -0.137458  0.141267 -0.206010   \n",
              "\n",
              "        V26       V27       V28  Amount  Class  \n",
              "0 -0.189115  0.133558 -0.021053  149.62      0  \n",
              "1  0.125895 -0.008983  0.014724    2.69      0  \n",
              "2 -0.139097 -0.055353 -0.059752  378.66      0  \n",
              "3 -0.221929  0.062723  0.061458  123.50      0  \n",
              "4  0.502292  0.219422  0.215153   69.99      0  \n",
              "\n",
              "[5 rows x 31 columns]"
            ],
            "text/html": [
              "\n",
              "  <div id=\"df-f36125ac-729a-4bf8-8266-ee3b0c6d5560\" class=\"colab-df-container\">\n",
              "    <div>\n",
              "<style scoped>\n",
              "    .dataframe tbody tr th:only-of-type {\n",
              "        vertical-align: middle;\n",
              "    }\n",
              "\n",
              "    .dataframe tbody tr th {\n",
              "        vertical-align: top;\n",
              "    }\n",
              "\n",
              "    .dataframe thead th {\n",
              "        text-align: right;\n",
              "    }\n",
              "</style>\n",
              "<table border=\"1\" class=\"dataframe\">\n",
              "  <thead>\n",
              "    <tr style=\"text-align: right;\">\n",
              "      <th></th>\n",
              "      <th>Time</th>\n",
              "      <th>V1</th>\n",
              "      <th>V2</th>\n",
              "      <th>V3</th>\n",
              "      <th>V4</th>\n",
              "      <th>V5</th>\n",
              "      <th>V6</th>\n",
              "      <th>V7</th>\n",
              "      <th>V8</th>\n",
              "      <th>V9</th>\n",
              "      <th>...</th>\n",
              "      <th>V21</th>\n",
              "      <th>V22</th>\n",
              "      <th>V23</th>\n",
              "      <th>V24</th>\n",
              "      <th>V25</th>\n",
              "      <th>V26</th>\n",
              "      <th>V27</th>\n",
              "      <th>V28</th>\n",
              "      <th>Amount</th>\n",
              "      <th>Class</th>\n",
              "    </tr>\n",
              "  </thead>\n",
              "  <tbody>\n",
              "    <tr>\n",
              "      <th>0</th>\n",
              "      <td>0.0</td>\n",
              "      <td>-1.359807</td>\n",
              "      <td>-0.072781</td>\n",
              "      <td>2.536347</td>\n",
              "      <td>1.378155</td>\n",
              "      <td>-0.338321</td>\n",
              "      <td>0.462388</td>\n",
              "      <td>0.239599</td>\n",
              "      <td>0.098698</td>\n",
              "      <td>0.363787</td>\n",
              "      <td>...</td>\n",
              "      <td>-0.018307</td>\n",
              "      <td>0.277838</td>\n",
              "      <td>-0.110474</td>\n",
              "      <td>0.066928</td>\n",
              "      <td>0.128539</td>\n",
              "      <td>-0.189115</td>\n",
              "      <td>0.133558</td>\n",
              "      <td>-0.021053</td>\n",
              "      <td>149.62</td>\n",
              "      <td>0</td>\n",
              "    </tr>\n",
              "    <tr>\n",
              "      <th>1</th>\n",
              "      <td>0.0</td>\n",
              "      <td>1.191857</td>\n",
              "      <td>0.266151</td>\n",
              "      <td>0.166480</td>\n",
              "      <td>0.448154</td>\n",
              "      <td>0.060018</td>\n",
              "      <td>-0.082361</td>\n",
              "      <td>-0.078803</td>\n",
              "      <td>0.085102</td>\n",
              "      <td>-0.255425</td>\n",
              "      <td>...</td>\n",
              "      <td>-0.225775</td>\n",
              "      <td>-0.638672</td>\n",
              "      <td>0.101288</td>\n",
              "      <td>-0.339846</td>\n",
              "      <td>0.167170</td>\n",
              "      <td>0.125895</td>\n",
              "      <td>-0.008983</td>\n",
              "      <td>0.014724</td>\n",
              "      <td>2.69</td>\n",
              "      <td>0</td>\n",
              "    </tr>\n",
              "    <tr>\n",
              "      <th>2</th>\n",
              "      <td>1.0</td>\n",
              "      <td>-1.358354</td>\n",
              "      <td>-1.340163</td>\n",
              "      <td>1.773209</td>\n",
              "      <td>0.379780</td>\n",
              "      <td>-0.503198</td>\n",
              "      <td>1.800499</td>\n",
              "      <td>0.791461</td>\n",
              "      <td>0.247676</td>\n",
              "      <td>-1.514654</td>\n",
              "      <td>...</td>\n",
              "      <td>0.247998</td>\n",
              "      <td>0.771679</td>\n",
              "      <td>0.909412</td>\n",
              "      <td>-0.689281</td>\n",
              "      <td>-0.327642</td>\n",
              "      <td>-0.139097</td>\n",
              "      <td>-0.055353</td>\n",
              "      <td>-0.059752</td>\n",
              "      <td>378.66</td>\n",
              "      <td>0</td>\n",
              "    </tr>\n",
              "    <tr>\n",
              "      <th>3</th>\n",
              "      <td>1.0</td>\n",
              "      <td>-0.966272</td>\n",
              "      <td>-0.185226</td>\n",
              "      <td>1.792993</td>\n",
              "      <td>-0.863291</td>\n",
              "      <td>-0.010309</td>\n",
              "      <td>1.247203</td>\n",
              "      <td>0.237609</td>\n",
              "      <td>0.377436</td>\n",
              "      <td>-1.387024</td>\n",
              "      <td>...</td>\n",
              "      <td>-0.108300</td>\n",
              "      <td>0.005274</td>\n",
              "      <td>-0.190321</td>\n",
              "      <td>-1.175575</td>\n",
              "      <td>0.647376</td>\n",
              "      <td>-0.221929</td>\n",
              "      <td>0.062723</td>\n",
              "      <td>0.061458</td>\n",
              "      <td>123.50</td>\n",
              "      <td>0</td>\n",
              "    </tr>\n",
              "    <tr>\n",
              "      <th>4</th>\n",
              "      <td>2.0</td>\n",
              "      <td>-1.158233</td>\n",
              "      <td>0.877737</td>\n",
              "      <td>1.548718</td>\n",
              "      <td>0.403034</td>\n",
              "      <td>-0.407193</td>\n",
              "      <td>0.095921</td>\n",
              "      <td>0.592941</td>\n",
              "      <td>-0.270533</td>\n",
              "      <td>0.817739</td>\n",
              "      <td>...</td>\n",
              "      <td>-0.009431</td>\n",
              "      <td>0.798278</td>\n",
              "      <td>-0.137458</td>\n",
              "      <td>0.141267</td>\n",
              "      <td>-0.206010</td>\n",
              "      <td>0.502292</td>\n",
              "      <td>0.219422</td>\n",
              "      <td>0.215153</td>\n",
              "      <td>69.99</td>\n",
              "      <td>0</td>\n",
              "    </tr>\n",
              "  </tbody>\n",
              "</table>\n",
              "<p>5 rows × 31 columns</p>\n",
              "</div>\n",
              "    <div class=\"colab-df-buttons\">\n",
              "\n",
              "  <div class=\"colab-df-container\">\n",
              "    <button class=\"colab-df-convert\" onclick=\"convertToInteractive('df-f36125ac-729a-4bf8-8266-ee3b0c6d5560')\"\n",
              "            title=\"Convert this dataframe to an interactive table.\"\n",
              "            style=\"display:none;\">\n",
              "\n",
              "  <svg xmlns=\"http://www.w3.org/2000/svg\" height=\"24px\" viewBox=\"0 -960 960 960\">\n",
              "    <path d=\"M120-120v-720h720v720H120Zm60-500h600v-160H180v160Zm220 220h160v-160H400v160Zm0 220h160v-160H400v160ZM180-400h160v-160H180v160Zm440 0h160v-160H620v160ZM180-180h160v-160H180v160Zm440 0h160v-160H620v160Z\"/>\n",
              "  </svg>\n",
              "    </button>\n",
              "\n",
              "  <style>\n",
              "    .colab-df-container {\n",
              "      display:flex;\n",
              "      gap: 12px;\n",
              "    }\n",
              "\n",
              "    .colab-df-convert {\n",
              "      background-color: #E8F0FE;\n",
              "      border: none;\n",
              "      border-radius: 50%;\n",
              "      cursor: pointer;\n",
              "      display: none;\n",
              "      fill: #1967D2;\n",
              "      height: 32px;\n",
              "      padding: 0 0 0 0;\n",
              "      width: 32px;\n",
              "    }\n",
              "\n",
              "    .colab-df-convert:hover {\n",
              "      background-color: #E2EBFA;\n",
              "      box-shadow: 0px 1px 2px rgba(60, 64, 67, 0.3), 0px 1px 3px 1px rgba(60, 64, 67, 0.15);\n",
              "      fill: #174EA6;\n",
              "    }\n",
              "\n",
              "    .colab-df-buttons div {\n",
              "      margin-bottom: 4px;\n",
              "    }\n",
              "\n",
              "    [theme=dark] .colab-df-convert {\n",
              "      background-color: #3B4455;\n",
              "      fill: #D2E3FC;\n",
              "    }\n",
              "\n",
              "    [theme=dark] .colab-df-convert:hover {\n",
              "      background-color: #434B5C;\n",
              "      box-shadow: 0px 1px 3px 1px rgba(0, 0, 0, 0.15);\n",
              "      filter: drop-shadow(0px 1px 2px rgba(0, 0, 0, 0.3));\n",
              "      fill: #FFFFFF;\n",
              "    }\n",
              "  </style>\n",
              "\n",
              "    <script>\n",
              "      const buttonEl =\n",
              "        document.querySelector('#df-f36125ac-729a-4bf8-8266-ee3b0c6d5560 button.colab-df-convert');\n",
              "      buttonEl.style.display =\n",
              "        google.colab.kernel.accessAllowed ? 'block' : 'none';\n",
              "\n",
              "      async function convertToInteractive(key) {\n",
              "        const element = document.querySelector('#df-f36125ac-729a-4bf8-8266-ee3b0c6d5560');\n",
              "        const dataTable =\n",
              "          await google.colab.kernel.invokeFunction('convertToInteractive',\n",
              "                                                    [key], {});\n",
              "        if (!dataTable) return;\n",
              "\n",
              "        const docLinkHtml = 'Like what you see? Visit the ' +\n",
              "          '<a target=\"_blank\" href=https://colab.research.google.com/notebooks/data_table.ipynb>data table notebook</a>'\n",
              "          + ' to learn more about interactive tables.';\n",
              "        element.innerHTML = '';\n",
              "        dataTable['output_type'] = 'display_data';\n",
              "        await google.colab.output.renderOutput(dataTable, element);\n",
              "        const docLink = document.createElement('div');\n",
              "        docLink.innerHTML = docLinkHtml;\n",
              "        element.appendChild(docLink);\n",
              "      }\n",
              "    </script>\n",
              "  </div>\n",
              "\n",
              "\n",
              "    <div id=\"df-2d0f1c9b-cadf-46b6-95d1-75e80643bb23\">\n",
              "      <button class=\"colab-df-quickchart\" onclick=\"quickchart('df-2d0f1c9b-cadf-46b6-95d1-75e80643bb23')\"\n",
              "                title=\"Suggest charts\"\n",
              "                style=\"display:none;\">\n",
              "\n",
              "<svg xmlns=\"http://www.w3.org/2000/svg\" height=\"24px\"viewBox=\"0 0 24 24\"\n",
              "     width=\"24px\">\n",
              "    <g>\n",
              "        <path d=\"M19 3H5c-1.1 0-2 .9-2 2v14c0 1.1.9 2 2 2h14c1.1 0 2-.9 2-2V5c0-1.1-.9-2-2-2zM9 17H7v-7h2v7zm4 0h-2V7h2v10zm4 0h-2v-4h2v4z\"/>\n",
              "    </g>\n",
              "</svg>\n",
              "      </button>\n",
              "\n",
              "<style>\n",
              "  .colab-df-quickchart {\n",
              "      --bg-color: #E8F0FE;\n",
              "      --fill-color: #1967D2;\n",
              "      --hover-bg-color: #E2EBFA;\n",
              "      --hover-fill-color: #174EA6;\n",
              "      --disabled-fill-color: #AAA;\n",
              "      --disabled-bg-color: #DDD;\n",
              "  }\n",
              "\n",
              "  [theme=dark] .colab-df-quickchart {\n",
              "      --bg-color: #3B4455;\n",
              "      --fill-color: #D2E3FC;\n",
              "      --hover-bg-color: #434B5C;\n",
              "      --hover-fill-color: #FFFFFF;\n",
              "      --disabled-bg-color: #3B4455;\n",
              "      --disabled-fill-color: #666;\n",
              "  }\n",
              "\n",
              "  .colab-df-quickchart {\n",
              "    background-color: var(--bg-color);\n",
              "    border: none;\n",
              "    border-radius: 50%;\n",
              "    cursor: pointer;\n",
              "    display: none;\n",
              "    fill: var(--fill-color);\n",
              "    height: 32px;\n",
              "    padding: 0;\n",
              "    width: 32px;\n",
              "  }\n",
              "\n",
              "  .colab-df-quickchart:hover {\n",
              "    background-color: var(--hover-bg-color);\n",
              "    box-shadow: 0 1px 2px rgba(60, 64, 67, 0.3), 0 1px 3px 1px rgba(60, 64, 67, 0.15);\n",
              "    fill: var(--button-hover-fill-color);\n",
              "  }\n",
              "\n",
              "  .colab-df-quickchart-complete:disabled,\n",
              "  .colab-df-quickchart-complete:disabled:hover {\n",
              "    background-color: var(--disabled-bg-color);\n",
              "    fill: var(--disabled-fill-color);\n",
              "    box-shadow: none;\n",
              "  }\n",
              "\n",
              "  .colab-df-spinner {\n",
              "    border: 2px solid var(--fill-color);\n",
              "    border-color: transparent;\n",
              "    border-bottom-color: var(--fill-color);\n",
              "    animation:\n",
              "      spin 1s steps(1) infinite;\n",
              "  }\n",
              "\n",
              "  @keyframes spin {\n",
              "    0% {\n",
              "      border-color: transparent;\n",
              "      border-bottom-color: var(--fill-color);\n",
              "      border-left-color: var(--fill-color);\n",
              "    }\n",
              "    20% {\n",
              "      border-color: transparent;\n",
              "      border-left-color: var(--fill-color);\n",
              "      border-top-color: var(--fill-color);\n",
              "    }\n",
              "    30% {\n",
              "      border-color: transparent;\n",
              "      border-left-color: var(--fill-color);\n",
              "      border-top-color: var(--fill-color);\n",
              "      border-right-color: var(--fill-color);\n",
              "    }\n",
              "    40% {\n",
              "      border-color: transparent;\n",
              "      border-right-color: var(--fill-color);\n",
              "      border-top-color: var(--fill-color);\n",
              "    }\n",
              "    60% {\n",
              "      border-color: transparent;\n",
              "      border-right-color: var(--fill-color);\n",
              "    }\n",
              "    80% {\n",
              "      border-color: transparent;\n",
              "      border-right-color: var(--fill-color);\n",
              "      border-bottom-color: var(--fill-color);\n",
              "    }\n",
              "    90% {\n",
              "      border-color: transparent;\n",
              "      border-bottom-color: var(--fill-color);\n",
              "    }\n",
              "  }\n",
              "</style>\n",
              "\n",
              "      <script>\n",
              "        async function quickchart(key) {\n",
              "          const quickchartButtonEl =\n",
              "            document.querySelector('#' + key + ' button');\n",
              "          quickchartButtonEl.disabled = true;  // To prevent multiple clicks.\n",
              "          quickchartButtonEl.classList.add('colab-df-spinner');\n",
              "          try {\n",
              "            const charts = await google.colab.kernel.invokeFunction(\n",
              "                'suggestCharts', [key], {});\n",
              "          } catch (error) {\n",
              "            console.error('Error during call to suggestCharts:', error);\n",
              "          }\n",
              "          quickchartButtonEl.classList.remove('colab-df-spinner');\n",
              "          quickchartButtonEl.classList.add('colab-df-quickchart-complete');\n",
              "        }\n",
              "        (() => {\n",
              "          let quickchartButtonEl =\n",
              "            document.querySelector('#df-2d0f1c9b-cadf-46b6-95d1-75e80643bb23 button');\n",
              "          quickchartButtonEl.style.display =\n",
              "            google.colab.kernel.accessAllowed ? 'block' : 'none';\n",
              "        })();\n",
              "      </script>\n",
              "    </div>\n",
              "\n",
              "    </div>\n",
              "  </div>\n"
            ],
            "application/vnd.google.colaboratory.intrinsic+json": {
              "type": "dataframe",
              "variable_name": "df"
            }
          },
          "metadata": {},
          "execution_count": 2
        }
      ],
      "source": [
        "# Connecting to Google Drive\n",
        "drive.mount('/content/drive')\n",
        "\n",
        "# Importing Dataset\n",
        "df = pd.read_csv('/content/drive/MyDrive/Belajar (PTA TA)/Tempat Belajar/KlasifikasiUTS.csv')\n",
        "\n",
        "# Display  dataset\n",
        "df.info()\n",
        "df.describe()\n",
        "df.head()"
      ]
    },
    {
      "cell_type": "markdown",
      "metadata": {
        "id": "BLz5k1ynUKpZ"
      },
      "source": [
        "Karena dataset sudah bersih dari missing values, maka tidak perlu dilakukan pembersihan data.\n",
        "\n",
        "## 2. Feature Selection"
      ]
    },
    {
      "cell_type": "code",
      "execution_count": 3,
      "metadata": {
        "id": "g2FVnLuQYk_X"
      },
      "outputs": [],
      "source": [
        "# Memisahkan fitur dan target\n",
        "X = df.drop('Class', axis=1)\n",
        "y = df['Class']"
      ]
    },
    {
      "cell_type": "markdown",
      "metadata": {
        "id": "-HqyDpuUYmnS"
      },
      "source": [
        "### Constant dan Quasi-Constant Feature Removal"
      ]
    },
    {
      "cell_type": "code",
      "execution_count": 4,
      "metadata": {
        "colab": {
          "base_uri": "https://localhost:8080/"
        },
        "id": "DIxv5Y-HZEfQ",
        "outputId": "128447b5-de98-4799-d69b-f3836b9714ee"
      },
      "outputs": [
        {
          "output_type": "stream",
          "name": "stdout",
          "text": [
            "Constant/Quasi-constant features: Tidak ada\n"
          ]
        }
      ],
      "source": [
        "constant_filter = VarianceThreshold(threshold=0.01)\n",
        "constant_filter.fit(X)\n",
        "constant_columns = [column for column, is_constant in zip(X.columns, constant_filter.get_support()) if not is_constant]\n",
        "print(f\"Constant/Quasi-constant features: {constant_columns if constant_columns else 'Tidak ada'}\")\n",
        "\n",
        "# Memfilter fitur konstan\n",
        "X_filtered = constant_filter.transform(X)\n",
        "feature_names = X.columns[constant_filter.get_support()]\n",
        "X_filtered = pd.DataFrame(X_filtered, columns=feature_names)"
      ]
    },
    {
      "cell_type": "markdown",
      "metadata": {
        "id": "IDeVgr2kZH9B"
      },
      "source": [
        "### Korelasi antar fitur"
      ]
    },
    {
      "cell_type": "code",
      "execution_count": 5,
      "metadata": {
        "id": "Yo7ShWZ3ZP2u"
      },
      "outputs": [],
      "source": [
        "plt.figure(figsize=(20, 16))\n",
        "correlation_matrix = X_filtered.corr()\n",
        "mask = np.triu(correlation_matrix)\n",
        "sns.heatmap(correlation_matrix, annot=False, mask=mask, cmap='coolwarm', linewidths=0.5)\n",
        "plt.title('Correlation Matrix')\n",
        "plt.tight_layout()\n",
        "plt.savefig('correlation_matrix.png')\n",
        "plt.close()"
      ]
    },
    {
      "cell_type": "markdown",
      "metadata": {
        "id": "RdW10DPeZQsQ"
      },
      "source": [
        "### Identifikasi fitur"
      ]
    },
    {
      "cell_type": "code",
      "execution_count": 6,
      "metadata": {
        "colab": {
          "base_uri": "https://localhost:8080/"
        },
        "id": "FkC1XDeuZYAE",
        "outputId": "26f2a1e6-2691-43da-b66a-d36e107ff670"
      },
      "outputs": [
        {
          "output_type": "stream",
          "name": "stdout",
          "text": [
            "Fitur dengan korelasi tinggi (>0.8): Tidak ada\n",
            "Fitur setelah menghapus korelasi tinggi: 30\n"
          ]
        }
      ],
      "source": [
        "# Identifikasi fitur dengan korelasi tinggi (threshold 0.8)\n",
        "high_corr_threshold = 0.8\n",
        "high_corr_pairs = []\n",
        "\n",
        "for i in range(len(correlation_matrix.columns)):\n",
        "    for j in range(i+1, len(correlation_matrix.columns)):\n",
        "        if abs(correlation_matrix.iloc[i, j]) > high_corr_threshold:\n",
        "            high_corr_pairs.append((correlation_matrix.columns[i], correlation_matrix.columns[j], correlation_matrix.iloc[i, j]))\n",
        "\n",
        "print(f\"Fitur dengan korelasi tinggi (>0.8): {high_corr_pairs if high_corr_pairs else 'Tidak ada'}\")\n",
        "\n",
        "# Hapus satu dari setiap pasangan fitur dengan korelasi tinggi\n",
        "features_to_drop = set()\n",
        "for pair in high_corr_pairs:\n",
        "    features_to_drop.add(pair[1])  # Hapus fitur kedua\n",
        "\n",
        "X_filtered = X_filtered.drop(columns=features_to_drop, errors='ignore')\n",
        "print(f\"Fitur setelah menghapus korelasi tinggi: {X_filtered.shape[1]}\")"
      ]
    },
    {
      "cell_type": "markdown",
      "metadata": {
        "id": "zA9m3fvQZa8n"
      },
      "source": [
        "### Mutual Information untuk fitur kategorik (tidak ada fitur kategorik disini)"
      ]
    },
    {
      "cell_type": "code",
      "execution_count": 7,
      "metadata": {
        "colab": {
          "base_uri": "https://localhost:8080/"
        },
        "id": "ZyvA9GJZZj2A",
        "outputId": "1c17f14a-ef01-421d-fc37-adf1cf104353"
      },
      "outputs": [
        {
          "output_type": "stream",
          "name": "stdout",
          "text": [
            "Top 10 fitur berdasarkan Mutual Information:\n",
            "V17    0.008258\n",
            "V14    0.008136\n",
            "V12    0.007601\n",
            "V10    0.007530\n",
            "V11    0.006831\n",
            "V16    0.006144\n",
            "V4     0.004976\n",
            "V3     0.004952\n",
            "V18    0.004317\n",
            "V9     0.004277\n",
            "dtype: float64\n"
          ]
        }
      ],
      "source": [
        "mi_scores = mutual_info_classif(X_filtered, y)\n",
        "mi_scores = pd.Series(mi_scores, index=X_filtered.columns)\n",
        "mi_scores = mi_scores.sort_values(ascending=False)\n",
        "print(\"Top 10 fitur berdasarkan Mutual Information:\")\n",
        "print(mi_scores.head(10))\n",
        "\n",
        "# Visualisasi Mutual Information Scores\n",
        "plt.figure(figsize=(12, 8))\n",
        "mi_scores.sort_values().plot.barh()\n",
        "plt.title('Mutual Information Scores (Korelasi dengan Target)')\n",
        "plt.xlabel('Mutual Information')\n",
        "plt.tight_layout()\n",
        "plt.savefig('mutual_information.png')\n",
        "plt.close()"
      ]
    },
    {
      "cell_type": "markdown",
      "metadata": {
        "id": "c8IDbPW1Zk8B"
      },
      "source": [
        "### ANOVA (f_classif) untuk fitur numerik"
      ]
    },
    {
      "cell_type": "code",
      "execution_count": 8,
      "metadata": {
        "colab": {
          "base_uri": "https://localhost:8080/"
        },
        "id": "VWmD3wK1YIu8",
        "outputId": "1df7d556-198e-4b87-a550-8cc4b21c7ba7"
      },
      "outputs": [
        {
          "output_type": "stream",
          "name": "stdout",
          "text": [
            "Top 10 fitur berdasarkan ANOVA F-Test:\n",
            "V17    33979.168593\n",
            "V14    28695.547788\n",
            "V12    20749.822361\n",
            "V10    14057.979985\n",
            "V16    11443.349428\n",
            "V3     11014.508305\n",
            "V7     10349.605408\n",
            "V11     6999.355047\n",
            "V4      5163.832114\n",
            "V18     3584.380605\n",
            "dtype: float64\n"
          ]
        }
      ],
      "source": [
        "f_scores, p_values = f_classif(X_filtered, y)\n",
        "f_scores = pd.Series(f_scores, index=X_filtered.columns)\n",
        "f_scores = f_scores.sort_values(ascending=False)\n",
        "print(\"Top 10 fitur berdasarkan ANOVA F-Test:\")\n",
        "print(f_scores.head(10))\n",
        "\n",
        "# Visualisasi F-scores\n",
        "plt.figure(figsize=(12, 8))\n",
        "f_scores.sort_values().plot.barh()\n",
        "plt.title('ANOVA F-Scores (Korelasi dengan Target)')\n",
        "plt.xlabel('F-Score')\n",
        "plt.tight_layout()\n",
        "plt.savefig('anova_f_scores.png')\n",
        "plt.close()"
      ]
    },
    {
      "cell_type": "markdown",
      "metadata": {
        "id": "jCIUZYomZuiV"
      },
      "source": [
        "### Pemilihan top fitur"
      ]
    },
    {
      "cell_type": "code",
      "execution_count": 9,
      "metadata": {
        "colab": {
          "base_uri": "https://localhost:8080/"
        },
        "id": "u-uHFHmCZthY",
        "outputId": "b48f9971-0de3-47d6-e77f-27efec7289ab"
      },
      "outputs": [
        {
          "output_type": "stream",
          "name": "stdout",
          "text": [
            "\n",
            "Selected top 15 features:\n",
            "['V1', 'V2', 'V3', 'V4', 'V5', 'V6', 'V7', 'V9', 'V10', 'V11', 'V12', 'V14', 'V16', 'V17', 'V18']\n"
          ]
        }
      ],
      "source": [
        "# Pemilihan top fitur berdasarkan analisis\n",
        "top_k = 15  # Jumlah fitur yang akan diambil\n",
        "selector = SelectKBest(f_classif, k=top_k)\n",
        "X_new = selector.fit_transform(X_filtered, y)\n",
        "selected_features = X_filtered.columns[selector.get_support()]\n",
        "print(f\"\\nSelected top {top_k} features:\")\n",
        "print(selected_features.tolist())\n",
        "\n",
        "X_selected = X_filtered[selected_features]"
      ]
    },
    {
      "cell_type": "markdown",
      "metadata": {
        "id": "spFFCrEpZt4_"
      },
      "source": [
        "## 3. Feature Engineering\n",
        "### Transformasi fitur Time dan Amount jika ada dalam fitur terpilih"
      ]
    },
    {
      "cell_type": "code",
      "execution_count": 10,
      "metadata": {
        "colab": {
          "base_uri": "https://localhost:8080/"
        },
        "id": "mPiNr3PQZ5Xv",
        "outputId": "32ce1633-b058-4a1a-ca6c-00e934d98887"
      },
      "outputs": [
        {
          "output_type": "stream",
          "name": "stdout",
          "text": [
            "Dataset setelah transformasi: (284807, 15)\n"
          ]
        }
      ],
      "source": [
        "if 'Time' in X_selected.columns:\n",
        "    # Ekstrak fitur siklus dari Time (hour of day)\n",
        "    X_selected['Hour'] = df['Time'] / 3600 % 24\n",
        "    X_selected.drop('Time', axis=1, inplace=True)\n",
        "\n",
        "if 'Amount' in X_selected.columns:\n",
        "    # Menggunakan RobustScaler untuk Amount karena ada outlier\n",
        "    amount_scaler = RobustScaler()\n",
        "    X_selected['Amount'] = amount_scaler.fit_transform(X_selected[['Amount']])\n",
        "\n",
        "# Untuk seluruh dataset, kita akan menggunakan StandardScaler\n",
        "# karena sebagian besar fitur V sudah di-PCA dan dinormalisasi\n",
        "scaler = StandardScaler()\n",
        "X_scaled = scaler.fit_transform(X_selected)\n",
        "X_scaled = pd.DataFrame(X_scaled, columns=X_selected.columns)\n",
        "\n",
        "print(f\"Dataset setelah transformasi: {X_scaled.shape}\")"
      ]
    },
    {
      "cell_type": "markdown",
      "metadata": {
        "id": "wVgDqU_GaCfV"
      },
      "source": [
        "### Split data and Handle Class Imbalance"
      ]
    },
    {
      "cell_type": "code",
      "execution_count": 11,
      "metadata": {
        "colab": {
          "base_uri": "https://localhost:8080/"
        },
        "id": "HkkhxItuaCOM",
        "outputId": "0fb68f79-1013-44d4-b437-aa3dc30a75b9"
      },
      "outputs": [
        {
          "output_type": "stream",
          "name": "stdout",
          "text": [
            "\n",
            "Train set: (199364, 15), Test set: (85443, 15)\n",
            "Distribusi kelas pada train: Class\n",
            "0    199020\n",
            "1       344\n",
            "Name: count, dtype: int64\n",
            "Distribusi kelas pada test: Class\n",
            "0    85295\n",
            "1      148\n",
            "Name: count, dtype: int64\n",
            "Data setelah SMOTE: (398040, 15)\n",
            "Distribusi kelas setelah SMOTE: Class\n",
            "0    199020\n",
            "1    199020\n",
            "Name: count, dtype: int64\n"
          ]
        }
      ],
      "source": [
        "# Train-test split\n",
        "X_train, X_test, y_train, y_test = train_test_split(\n",
        "    X_scaled, y, test_size=0.3, random_state=42, stratify=y\n",
        ")\n",
        "\n",
        "print(f\"\\nTrain set: {X_train.shape}, Test set: {X_test.shape}\")\n",
        "print(f\"Distribusi kelas pada train: {pd.Series(y_train).value_counts()}\")\n",
        "print(f\"Distribusi kelas pada test: {pd.Series(y_test).value_counts()}\")\n",
        "\n",
        "# Mengatasi imbalance dengan SMOTE (hanya pada training set)\n",
        "smote = SMOTE(random_state=42)\n",
        "X_train_resampled, y_train_resampled = smote.fit_resample(X_train, y_train)\n",
        "\n",
        "print(f\"Data setelah SMOTE: {X_train_resampled.shape}\")\n",
        "print(f\"Distribusi kelas setelah SMOTE: {pd.Series(y_train_resampled).value_counts()}\")"
      ]
    },
    {
      "cell_type": "markdown",
      "metadata": {
        "id": "m1kyOSSLaOPZ"
      },
      "source": [
        "## 4. Model Training dan Evaluasi\n",
        "### Mendifinisikan tiap fungsi"
      ]
    },
    {
      "cell_type": "code",
      "execution_count": 12,
      "metadata": {
        "id": "9IxKE_4yaPLb"
      },
      "outputs": [],
      "source": [
        "# Dictionary untuk menyimpan hasil model\n",
        "models = {\n",
        "    'Logistic Regression': LogisticRegression(max_iter=1000, random_state=42),\n",
        "    'Decision Tree': DecisionTreeClassifier(random_state=42),\n",
        "    'KNN': KNeighborsClassifier(),\n",
        "    'SVM': LinearSVC(random_state=42),\n",
        "    'Random Forest (Bagging)': RandomForestClassifier(random_state=42),\n",
        "    'AdaBoost (Boosting)': AdaBoostClassifier(random_state=42),\n",
        "    'Gradient Boosting': GradientBoostingClassifier(random_state=42)\n",
        "}\n",
        "\n",
        "# Parameter untuk GridSearchCV\n",
        "param_grids = {\n",
        "    'Logistic Regression': {'C': [0.01, 0.1, 1, 10, 100]},\n",
        "    'Decision Tree': {'max_depth': [5, 10, 15, 20, None]},\n",
        "    'KNN': {'n_neighbors': [3, 5, 7, 9, 11]},\n",
        "    'SVM': {'C': [1.0, 0.1, 10]},\n",
        "    'Random Forest (Bagging)': {'n_estimators': [50, 100], 'max_depth': [10, 20, None]},\n",
        "    'AdaBoost (Boosting)': {'n_estimators': [50, 100], 'learning_rate': [0.01, 0.1, 1.0]},\n",
        "    'Gradient Boosting': {'n_estimators': [50, 100], 'learning_rate': [0.01, 0.1, 1.0]}\n",
        "}\n",
        "\n",
        "# Variabel untuk menyimpan hasil evaluasi\n",
        "results = {}\n",
        "best_models = {}\n",
        "metrics_df = pd.DataFrame(columns=['Model', 'Accuracy', 'Precision', 'Recall', 'F1-Score', 'AUC'])\n",
        "\n",
        "# Fungsi untuk plot confusion matrix\n",
        "def plot_confusion_matrix(y_true, y_pred, model_name):\n",
        "    cm = confusion_matrix(y_true, y_pred)\n",
        "    plt.figure(figsize=(10, 8))\n",
        "    sns.heatmap(cm, annot=True, fmt='d', cmap='Blues', cbar=False)\n",
        "    plt.title(f'Confusion Matrix - {model_name}')\n",
        "    plt.ylabel('Actual')\n",
        "    plt.xlabel('Predicted')\n",
        "    plt.savefig(f'confusion_matrix_{model_name.replace(\" \", \"_\").lower()}.png')\n",
        "    plt.close()\n",
        "\n",
        "# Fungsi untuk plot ROC Curve\n",
        "def plot_roc_curve(y_true, y_prob, model_name):\n",
        "    fpr, tpr, _ = roc_curve(y_true, y_prob)\n",
        "    roc_auc = auc(fpr, tpr)\n",
        "    plt.figure(figsize=(10, 8))\n",
        "    plt.plot(fpr, tpr, label=f'ROC curve (area = {roc_auc:.3f})')\n",
        "    plt.plot([0, 1], [0, 1], 'k--')\n",
        "    plt.xlim([0.0, 1.0])\n",
        "    plt.ylim([0.0, 1.05])\n",
        "    plt.xlabel('False Positive Rate')\n",
        "    plt.ylabel('True Positive Rate')\n",
        "    plt.title(f'ROC Curve - {model_name}')\n",
        "    plt.legend(loc=\"lower right\")\n",
        "    plt.savefig(f'roc_curve_{model_name.replace(\" \", \"_\").lower()}.png')\n",
        "    plt.close()\n",
        "    return roc_auc\n",
        "\n",
        "# Fungsi untuk plot Precision-Recall Curve\n",
        "def plot_pr_curve(y_true, y_prob, model_name):\n",
        "    precision, recall, _ = precision_recall_curve(y_true, y_prob)\n",
        "    pr_auc = auc(recall, precision)\n",
        "    plt.figure(figsize=(10, 8))\n",
        "    plt.plot(recall, precision, label=f'PR curve (area = {pr_auc:.3f})')\n",
        "    plt.xlabel('Recall')\n",
        "    plt.ylabel('Precision')\n",
        "    plt.title(f'Precision-Recall Curve - {model_name}')\n",
        "    plt.legend(loc=\"lower left\")\n",
        "    plt.savefig(f'pr_curve_{model_name.replace(\" \", \"_\").lower()}.png')\n",
        "    plt.close()\n",
        "    return pr_auc\n",
        "\n",
        "# Fungsi untuk training model\n",
        "metrics_df = pd.DataFrame(columns=['Model', 'Accuracy', 'Precision', 'Recall', 'F1-Score', 'AUC'])\n",
        "def train_model(model_name):\n",
        "    model = models[model_name]\n",
        "    print(f\"\\nTraining {model_name}...\")\n",
        "\n",
        "    # Grid Search CV untuk hyperparameter tuning\n",
        "    grid_search = GridSearchCV(model, param_grids[model_name], cv=3, scoring='f1', n_jobs=-1)\n",
        "    grid_search.fit(X_train_resampled, y_train_resampled)\n",
        "\n",
        "    # Simpan model terbaik\n",
        "    best_model = grid_search.best_estimator_\n",
        "    best_models[model_name] = best_model\n",
        "\n",
        "    # Prediksi\n",
        "    y_pred = best_model.predict(X_test)\n",
        "    y_prob = best_model.predict_proba(X_test)[:, 1] if hasattr(best_model, 'predict_proba') else best_model.decision_function(X_test)\n",
        "\n",
        "    # Evaluasi\n",
        "    accuracy = accuracy_score(y_test, y_pred)\n",
        "    precision = precision_score(y_test, y_pred)\n",
        "    recall = recall_score(y_test, y_pred)\n",
        "    f1 = f1_score(y_test, y_pred)\n",
        "    auc_score = roc_auc_score(y_test, y_prob)\n",
        "\n",
        "    # Tampilkan hasil\n",
        "    print(f\"Best parameters: {grid_search.best_params_}\")\n",
        "    print(f\"Accuracy: {accuracy:.4f}\")\n",
        "    print(f\"Precision: {precision:.4f}\")\n",
        "    print(f\"Recall: {recall:.4f}\")\n",
        "    print(f\"F1-Score: {f1:.4f}\")\n",
        "    print(f\"AUC: {auc_score:.4f}\")\n",
        "\n",
        "    # Simpan hasil\n",
        "    results[model_name] = {\n",
        "        'accuracy': accuracy,\n",
        "        'precision': precision,\n",
        "        'recall': recall,\n",
        "        'f1': f1,\n",
        "        'auc': auc_score,\n",
        "        'y_pred': y_pred,\n",
        "        'y_prob': y_prob\n",
        "    }\n",
        "\n",
        "    # Plot confusion matrix\n",
        "    plot_confusion_matrix(y_test, y_pred, model_name)\n",
        "\n",
        "    # Plot ROC curve\n",
        "    plot_roc_curve(y_test, y_prob, model_name)\n",
        "\n",
        "    # Plot Precision-Recall curve\n",
        "    plot_pr_curve(y_test, y_prob, model_name)\n",
        "\n",
        "    # Tambahkan ke dataframe\n",
        "    return pd.DataFrame({\n",
        "        'Model': [model_name],\n",
        "        'Accuracy': [accuracy],\n",
        "        'Precision': [precision],\n",
        "        'Recall': [recall],\n",
        "        'F1-Score': [f1],\n",
        "        'AUC': [auc_score]\n",
        "    })"
      ]
    },
    {
      "cell_type": "markdown",
      "metadata": {
        "id": "Hqo3SVzeatVJ"
      },
      "source": [
        "### Training untuk setiap model\n",
        "#### Logistic Regression"
      ]
    },
    {
      "cell_type": "code",
      "execution_count": 13,
      "metadata": {
        "colab": {
          "base_uri": "https://localhost:8080/"
        },
        "id": "ar5psnZOazJt",
        "outputId": "2ee7c984-4f49-4aef-de0c-4915d0294164"
      },
      "outputs": [
        {
          "output_type": "stream",
          "name": "stdout",
          "text": [
            "\n",
            "Training Logistic Regression...\n",
            "Best parameters: {'C': 1}\n",
            "Accuracy: 0.9744\n",
            "Precision: 0.0561\n",
            "Recall: 0.8716\n",
            "F1-Score: 0.1053\n",
            "AUC: 0.9603\n"
          ]
        }
      ],
      "source": [
        "metrics_df = pd.concat([metrics_df, train_model('Logistic Regression')], ignore_index=True)"
      ]
    },
    {
      "cell_type": "markdown",
      "source": [
        "#### Decision Tree"
      ],
      "metadata": {
        "id": "y9qc1Kr9bNTl"
      }
    },
    {
      "cell_type": "code",
      "source": [
        "metrics_df = pd.concat([metrics_df, train_model('Decision Tree')], ignore_index=True)"
      ],
      "metadata": {
        "colab": {
          "base_uri": "https://localhost:8080/"
        },
        "id": "tcwu0fJscxYH",
        "outputId": "b579a8fd-7057-439a-a08b-a28120830999"
      },
      "execution_count": 14,
      "outputs": [
        {
          "output_type": "stream",
          "name": "stdout",
          "text": [
            "\n",
            "Training Decision Tree...\n",
            "Best parameters: {'max_depth': None}\n",
            "Accuracy: 0.9973\n",
            "Precision: 0.3639\n",
            "Recall: 0.7500\n",
            "F1-Score: 0.4901\n",
            "AUC: 0.8739\n"
          ]
        }
      ]
    },
    {
      "cell_type": "markdown",
      "source": [
        "#### KNN\n"
      ],
      "metadata": {
        "id": "aka1kf2bbPTx"
      }
    },
    {
      "cell_type": "code",
      "source": [
        "metrics_df = pd.concat([metrics_df, train_model('KNN')], ignore_index=True)"
      ],
      "metadata": {
        "colab": {
          "base_uri": "https://localhost:8080/"
        },
        "id": "rlPh1wgTc0c-",
        "outputId": "97b5ba34-5652-46de-ef8e-a73960ac44ff"
      },
      "execution_count": 15,
      "outputs": [
        {
          "output_type": "stream",
          "name": "stdout",
          "text": [
            "\n",
            "Training KNN...\n",
            "Best parameters: {'n_neighbors': 3}\n",
            "Accuracy: 0.9985\n",
            "Precision: 0.5360\n",
            "Recall: 0.8041\n",
            "F1-Score: 0.6432\n",
            "AUC: 0.9117\n"
          ]
        }
      ]
    },
    {
      "cell_type": "markdown",
      "source": [
        "#### SVM"
      ],
      "metadata": {
        "id": "cdYmynJNbRBe"
      }
    },
    {
      "cell_type": "code",
      "source": [
        "metrics_df = pd.concat([metrics_df, train_model('SVM')], ignore_index=True)"
      ],
      "metadata": {
        "colab": {
          "base_uri": "https://localhost:8080/"
        },
        "id": "nXdLLJcTc7lt",
        "outputId": "5c33695b-6608-4852-8cd7-ead5100d1237"
      },
      "execution_count": 16,
      "outputs": [
        {
          "output_type": "stream",
          "name": "stdout",
          "text": [
            "\n",
            "Training SVM...\n",
            "Best parameters: {'C': 1.0}\n",
            "Accuracy: 0.9788\n",
            "Precision: 0.0666\n",
            "Recall: 0.8649\n",
            "F1-Score: 0.1237\n",
            "AUC: 0.9620\n"
          ]
        }
      ]
    },
    {
      "cell_type": "markdown",
      "source": [
        "#### Random Forest (Bagging)"
      ],
      "metadata": {
        "id": "FqF9Ca9KbTMj"
      }
    },
    {
      "cell_type": "code",
      "source": [
        "metrics_df = pd.concat([metrics_df, train_model('Random Forest (Bagging)')], ignore_index=True)"
      ],
      "metadata": {
        "colab": {
          "base_uri": "https://localhost:8080/"
        },
        "id": "rStmE-bOc9MY",
        "outputId": "bc3a7596-b073-4e3a-953a-0f6a3a991d2d"
      },
      "execution_count": 17,
      "outputs": [
        {
          "output_type": "stream",
          "name": "stdout",
          "text": [
            "\n",
            "Training Random Forest (Bagging)...\n",
            "Best parameters: {'max_depth': None, 'n_estimators': 100}\n",
            "Accuracy: 0.9992\n",
            "Precision: 0.7785\n",
            "Recall: 0.7838\n",
            "F1-Score: 0.7811\n",
            "AUC: 0.9617\n"
          ]
        }
      ]
    },
    {
      "cell_type": "markdown",
      "source": [
        "#### AdaBoost (Boosting)"
      ],
      "metadata": {
        "id": "_M42bDzJbUz2"
      }
    },
    {
      "cell_type": "code",
      "source": [
        "metrics_df = pd.concat([metrics_df, train_model('AdaBoost (Boosting)')], ignore_index=True)"
      ],
      "metadata": {
        "colab": {
          "base_uri": "https://localhost:8080/"
        },
        "id": "BzbQgl9Mc-tX",
        "outputId": "5f2b59b4-82c1-4c53-e20d-d5f77efff978"
      },
      "execution_count": 18,
      "outputs": [
        {
          "output_type": "stream",
          "name": "stdout",
          "text": [
            "\n",
            "Training AdaBoost (Boosting)...\n",
            "Best parameters: {'learning_rate': 1.0, 'n_estimators': 100}\n",
            "Accuracy: 0.9761\n",
            "Precision: 0.0604\n",
            "Recall: 0.8784\n",
            "F1-Score: 0.1129\n",
            "AUC: 0.9575\n"
          ]
        }
      ]
    },
    {
      "cell_type": "markdown",
      "source": [
        "#### Gradient Boosting"
      ],
      "metadata": {
        "id": "osg2oPnmbWd3"
      }
    },
    {
      "cell_type": "code",
      "source": [
        "metrics_df = pd.concat([metrics_df, train_model('Gradient Boosting')], ignore_index=True)"
      ],
      "metadata": {
        "colab": {
          "base_uri": "https://localhost:8080/"
        },
        "id": "fbP6sDXhdAde",
        "outputId": "e4544408-031a-4d9f-9d24-7ab1b8f40786"
      },
      "execution_count": 19,
      "outputs": [
        {
          "output_type": "stream",
          "name": "stdout",
          "text": [
            "\n",
            "Training Gradient Boosting...\n",
            "Best parameters: {'learning_rate': 1.0, 'n_estimators': 100}\n",
            "Accuracy: 0.9963\n",
            "Precision: 0.2950\n",
            "Recall: 0.8311\n",
            "F1-Score: 0.4354\n",
            "AUC: 0.9631\n"
          ]
        }
      ]
    },
    {
      "cell_type": "markdown",
      "metadata": {
        "id": "UKHk25DPbHTj"
      },
      "source": [
        "# Perbandingan model"
      ]
    },
    {
      "cell_type": "code",
      "execution_count": 20,
      "metadata": {
        "id": "SkjaeaOfbJZT",
        "colab": {
          "base_uri": "https://localhost:8080/",
          "height": 1000
        },
        "outputId": "b1b0ac11-3124-45cf-8a39-c17051426937"
      },
      "outputs": [
        {
          "output_type": "stream",
          "name": "stdout",
          "text": [
            "                     Model  Accuracy  Precision    Recall  F1-Score       AUC\n",
            "0      Logistic Regression  0.974357   0.056063  0.871622  0.105349  0.960292\n",
            "1            Decision Tree  0.997296   0.363934  0.750000  0.490066  0.873863\n",
            "2                      KNN  0.998455   0.536036  0.804054  0.643243  0.911701\n",
            "3                      SVM  0.978769   0.066597  0.864865  0.123671  0.961983\n",
            "4  Random Forest (Bagging)  0.999239   0.778523  0.783784  0.781145  0.961708\n",
            "5      AdaBoost (Boosting)  0.976101   0.060353  0.878378  0.112945  0.957541\n",
            "6        Gradient Boosting  0.996267   0.294964  0.831081  0.435398  0.963134\n",
            "\n",
            "Model terbaik berdasarkan AUC: Gradient Boosting\n",
            "\n"
          ]
        },
        {
          "output_type": "display_data",
          "data": {
            "text/plain": [
              "<Figure size 1400x1000 with 0 Axes>"
            ]
          },
          "metadata": {}
        },
        {
          "output_type": "display_data",
          "data": {
            "text/plain": [
              "<Figure size 1200x1000 with 1 Axes>"
            ],
            "image/png": "[encoded data removed]"
          },
          "metadata": {}
        }
      ],
      "source": [
        "# Plot perbandingan metrik\n",
        "plt.figure(figsize=(14, 10))\n",
        "metrics = ['Accuracy', 'Precision', 'Recall', 'F1-Score', 'AUC']\n",
        "\n",
        "# Plot ROC curves untuk semua model dalam satu grafik\n",
        "plt.figure(figsize=(12, 10))\n",
        "for model_name, result in results.items():\n",
        "    fpr, tpr, _ = roc_curve(y_test, result['y_prob'])\n",
        "    plt.plot(fpr, tpr, label=f\"{model_name} (AUC = {result['auc']:.3f})\")\n",
        "plt.plot([0, 1], [0, 1], 'k--')\n",
        "plt.xlim([0.0, 1.0])\n",
        "plt.ylim([0.0, 1.05])\n",
        "plt.xlabel('False Positive Rate')\n",
        "plt.ylabel('True Positive Rate')\n",
        "plt.title('ROC Curves - All Models')\n",
        "plt.legend(loc=\"lower right\")\n",
        "plt.savefig('roc_curves_all_models.png')\n",
        "\n",
        "print(metrics_df)\n",
        "\n",
        "best_model = metrics_df.loc[metrics_df['AUC'].idxmax()]['Model']\n",
        "print(f\"\\nModel terbaik berdasarkan AUC: {best_model}\\n\")"
      ]
    },
    {
      "cell_type": "markdown",
      "source": [
        "# Analisa\n",
        "\n",
        "## Pertanyaan 1: AUC-ROC Tinggi dengan Presisi Rendah\n",
        "\n",
        "### Simulasi Dataset Tidak Seimbang\n"
      ],
      "metadata": {
        "id": "6EMy_D1EDh2n"
      }
    },
    {
      "cell_type": "code",
      "source": [
        "from sklearn.datasets import make_classification\n",
        "\n",
        "# Membuat dataset tidak seimbang (99% kelas negatif, 1% kelas positif)\n",
        "X, y = make_classification(n_samples=10000, n_features=10, n_informative=5,\n",
        "                          n_redundant=2, n_repeated=0, n_classes=2,\n",
        "                          weights=[0.99, 0.01], random_state=42)\n",
        "\n",
        "X_train, X_test, y_train, y_test = train_test_split(X, y, test_size=0.3, random_state=42, stratify=y)\n",
        "\n",
        "print(f\"Distribusi kelas pada train: {pd.Series(y_train).value_counts(normalize=True)}\")\n",
        "print(f\"Distribusi kelas pada test: {pd.Series(y_test).value_counts(normalize=True)}\")\n",
        "\n",
        "# Model logistik dengan threshold default\n",
        "model = LogisticRegression()\n",
        "model.fit(X_train, y_train)\n",
        "y_prob = model.predict_proba(X_test)[:, 1]\n",
        "y_pred_default = model.predict(X_test)\n",
        "\n",
        "# Menghitung metrik dengan threshold default\n",
        "precision_default = precision_score(y_test, y_pred_default)\n",
        "recall_default = recall_score(y_test, y_pred_default)\n",
        "auc_score = roc_auc_score(y_test, y_prob)\n",
        "\n",
        "print(f\"\\nModel dengan threshold default (0.5):\")\n",
        "print(f\"AUC-ROC: {auc_score:.4f}\")\n",
        "print(f\"Precision: {precision_default:.4f}\")\n",
        "print(f\"Recall: {recall_default:.4f}\")\n",
        "\n",
        "# Membuat DataFrame untuk menyimpan hasil berbagai threshold\n",
        "thresholds = np.arange(0.1, 1.0, 0.1)\n",
        "metrics_df = pd.DataFrame(columns=['Threshold', 'Precision', 'Recall', 'F1-Score', 'AUC-ROC'])\n",
        "\n",
        "# Mengevaluasi model dengan berbagai threshold\n",
        "for threshold in thresholds:\n",
        "    y_pred = (y_prob >= threshold).astype(int)\n",
        "    precision = precision_score(y_test, y_pred)\n",
        "    recall = recall_score(y_test, y_pred)\n",
        "    f1 = f1_score(y_test, y_pred)\n",
        "\n",
        "    metrics_df = pd.concat([metrics_df, pd.DataFrame({\n",
        "        'Threshold': [threshold],\n",
        "        'Precision': [precision],\n",
        "        'Recall': [recall],\n",
        "        'F1-Score': [f1],\n",
        "        'AUC-ROC': [auc_score]  # AUC-ROC tidak berubah dengan threshold\n",
        "    })], ignore_index=True)\n",
        "\n",
        "print(\"\\nHasil dengan berbagai threshold:\")\n",
        "print(metrics_df.to_string(index=False))\n",
        "\n",
        "# Visualisasi trade-off Precision-Recall\n",
        "plt.figure(figsize=(12, 6))\n",
        "plt.plot(metrics_df['Threshold'], metrics_df['Precision'], 'b-', label='Precision')\n",
        "plt.plot(metrics_df['Threshold'], metrics_df['Recall'], 'r-', label='Recall')\n",
        "plt.plot(metrics_df['Threshold'], metrics_df['F1-Score'], 'g-', label='F1-Score')\n",
        "plt.xlabel('Threshold')\n",
        "plt.ylabel('Score')\n",
        "plt.title('Precision-Recall Trade-off dengan Berbagai Threshold')\n",
        "plt.legend()\n",
        "plt.grid(True)\n",
        "plt.savefig('precision_recall_tradeoff.png')\n",
        "plt.close()\n",
        "\n",
        "# Plot ROC Curve dan Precision-Recall Curve\n",
        "plt.figure(figsize=(12, 5))\n",
        "\n",
        "# ROC Curve\n",
        "plt.subplot(1, 2, 1)\n",
        "fpr, tpr, _ = roc_curve(y_test, y_prob)\n",
        "plt.plot(fpr, tpr, 'b-', label=f'AUC = {auc(fpr, tpr):.2f}')\n",
        "plt.plot([0, 1], [0, 1], 'k--')\n",
        "plt.xlabel('False Positive Rate')\n",
        "plt.ylabel('True Positive Rate')\n",
        "plt.title('ROC Curve')\n",
        "plt.legend()\n",
        "plt.grid(True)\n",
        "\n",
        "# Precision-Recall Curve\n",
        "plt.subplot(1, 2, 2)\n",
        "precision_curve, recall_curve, _ = precision_recall_curve(y_test, y_prob)\n",
        "plt.plot(recall_curve, precision_curve, 'r-', label=f'AP = {auc(recall_curve, precision_curve):.2f}')\n",
        "plt.xlabel('Recall')\n",
        "plt.ylabel('Precision')\n",
        "plt.title('Precision-Recall Curve')\n",
        "plt.legend()\n",
        "plt.grid(True)\n",
        "\n",
        "plt.tight_layout()\n",
        "plt.savefig('roc_pr_curves.png')\n",
        "plt.close()\n",
        "\n",
        "# Hyperparameter Tuning dengan class_weight\n",
        "print(\"\\n### Hyperparameter Tuning dengan Class Weight\")\n",
        "models = {\n",
        "    'Logistic (Default)': LogisticRegression(random_state=42),\n",
        "    'Logistic (Balanced)': LogisticRegression(class_weight='balanced', random_state=42),\n",
        "    'Logistic (Custom Weight)': LogisticRegression(class_weight={0: 1, 1: 10}, random_state=42)\n",
        "}\n",
        "\n",
        "results = {}\n",
        "for name, model in models.items():\n",
        "    model.fit(X_train, y_train)\n",
        "    y_prob = model.predict_proba(X_test)[:, 1]\n",
        "    y_pred = model.predict(X_test)\n",
        "\n",
        "    precision = precision_score(y_test, y_pred)\n",
        "    recall = recall_score(y_test, y_pred)\n",
        "    f1 = f1_score(y_test, y_pred)\n",
        "    auc_score = roc_auc_score(y_test, y_prob)\n",
        "\n",
        "    results[name] = {\n",
        "        'precision': precision,\n",
        "        'recall': recall,\n",
        "        'f1': f1,\n",
        "        'auc': auc_score\n",
        "    }\n",
        "\n",
        "    print(f\"\\nModel: {name}\")\n",
        "    print(f\"AUC-ROC: {auc_score:.4f}\")\n",
        "    print(f\"Precision: {precision:.4f}\")\n",
        "    print(f\"Recall: {recall:.4f}\")\n",
        "    print(f\"F1-Score: {f1:.4f}\")"
      ],
      "metadata": {
        "colab": {
          "base_uri": "https://localhost:8080/"
        },
        "id": "-Ur3UFhKD6Ue",
        "outputId": "3a670d7e-15cb-46d3-946b-6dca3bd5e9e3"
      },
      "execution_count": 35,
      "outputs": [
        {
          "output_type": "stream",
          "name": "stdout",
          "text": [
            "Distribusi kelas pada train: 0    0.985286\n",
            "1    0.014714\n",
            "Name: proportion, dtype: float64\n",
            "Distribusi kelas pada test: 0    0.985333\n",
            "1    0.014667\n",
            "Name: proportion, dtype: float64\n",
            "\n",
            "Model dengan threshold default (0.5):\n",
            "AUC-ROC: 0.7673\n",
            "Precision: 0.0000\n",
            "Recall: 0.0000\n",
            "\n",
            "Hasil dengan berbagai threshold:\n",
            " Threshold  Precision   Recall  F1-Score  AUC-ROC\n",
            "       0.1   0.230769 0.068182  0.105263 0.767291\n",
            "       0.2   1.000000 0.022727  0.044444 0.767291\n",
            "       0.3   1.000000 0.022727  0.044444 0.767291\n",
            "       0.4   1.000000 0.022727  0.044444 0.767291\n",
            "       0.5   0.000000 0.000000  0.000000 0.767291\n",
            "       0.6   0.000000 0.000000  0.000000 0.767291\n",
            "       0.7   0.000000 0.000000  0.000000 0.767291\n",
            "       0.8   0.000000 0.000000  0.000000 0.767291\n",
            "       0.9   0.000000 0.000000  0.000000 0.767291\n",
            "\n",
            "### Hyperparameter Tuning dengan Class Weight\n",
            "\n",
            "Model: Logistic (Default)\n",
            "AUC-ROC: 0.7673\n",
            "Precision: 0.0000\n",
            "Recall: 0.0000\n",
            "F1-Score: 0.0000\n",
            "\n",
            "Model: Logistic (Balanced)\n",
            "AUC-ROC: 0.7724\n",
            "Precision: 0.0302\n",
            "Recall: 0.6591\n",
            "F1-Score: 0.0578\n",
            "\n",
            "Model: Logistic (Custom Weight)\n",
            "AUC-ROC: 0.7729\n",
            "Precision: 0.1250\n",
            "Recall: 0.0227\n",
            "F1-Score: 0.0385\n"
          ]
        }
      ]
    },
    {
      "cell_type": "markdown",
      "source": [
        "### Analisis Ketidaksesuaian AUC-ROC Tinggi dengan Presisi Rendah\n",
        "\n",
        "1. **Faktor utama penyebab ketidaksesuaian:**\n",
        "\n",
        "   a) **Imbalance Dataset Ekstrim**: Dengan hanya 1% kelas positif, threshold default 0.5 tidak optimal untuk memprediksi kelas minoritas.\n",
        "   \n",
        "   b) **AUC-ROC tidak sensitif terhadap distribusi kelas**: Metrik ini mengukur kemampuan model untuk membedakan kelas positif dan negatif, tetapi tidak mempertimbangkan distribusi probabilitas.\n",
        "   \n",
        "   c) **Presisi dipengaruhi oleh prevalensi**: Pada dataset dengan prevalensi rendah, bahkan model yang bagus akan sulit mencapai presisi tinggi dengan threshold default.\n",
        "   \n",
        "   d) **Threshold Klasifikasi**: AUC-ROC mengevaluasi model pada semua threshold, sementara presisi hanya dihitung pada satu threshold (biasanya 0.5).\n",
        "\n",
        "2. **Strategi Tuning Hyperparameter untuk Meningkatkan Presisi tanpa Mengorbankan AUC-ROC:**\n",
        "\n",
        "   a) **Penyesuaian Threshold**: Meningkatkan threshold klasifikasi akan meningkatkan presisi dengan mengorbankan recall.\n",
        "   \n",
        "   b) **Class Weighting**: Penambahan bobot pada kelas minoritas (positif) dalam fungsi loss.\n",
        "   \n",
        "   c) **Cost-sensitive Learning**: Menetapkan biaya yang lebih tinggi untuk kesalahan klasifikasi kelas minoritas.\n",
        "   \n",
        "   d) **Ensemble Methods**: Teknik seperti stacking atau blending dapat membantu menyeimbangkan presisi dan recall.\n",
        "   \n",
        "   e) **Regularisasi**: Penyesuaian parameter regularisasi (C dalam Logistic Regression atau SVM) dapat mempengaruhi keseimbangan bias-variance.\n",
        "\n",
        "3. **Mengapa Recall Menjadi Pertimbangan Kritis:**\n",
        "\n",
        "   a) **Cost of False Negatives**: Dalam fraud detection, false negative (melewatkan fraud) sering kali lebih mahal daripada false positive (menandai transaksi normal sebagai fraud).\n",
        "   \n",
        "   b) **Hubungan dengan Biaya Bisnis**: False negative berarti transaksi fraud tidak terdeteksi, yang mengakibatkan kerugian finansial langsung.\n",
        "   \n",
        "   c) **Trade-off dengan Presisi**: Meningkatkan recall (mendeteksi lebih banyak fraud) cenderung menurunkan presisi (lebih banyak false alarm).\n",
        "   \n",
        "   d) **Analisis Biaya Total**: Pendekatan optimal adalah meminimalkan total biaya dengan mempertimbangkan:\n",
        "      - Biaya per false negative (fraud yang terlewat)\n",
        "      - Biaya per false positive (investigasi transaksi normal)\n",
        "      - Prevalensi fraud dalam populasi\n",
        "\n",
        "4. **Rekomendasi Praktis:**\n",
        "\n",
        "   a) **Gunakan F-beta score**: F2-score memberikan bobot lebih pada recall dibandingkan presisi, cocok untuk fraud detection.\n",
        "   \n",
        "   b) **Custom objective function**: Kembangkan fungsi objektif khusus yang secara eksplisit memperhitungkan cost ratio.\n",
        "   \n",
        "   c) **Threshold optimisasi berbasis biaya**: Tentukan threshold optimal berdasarkan minimalisasi expected cost.\n",
        "   \n",
        "   d) **Evaluasi dengan metrik bisnis**: Selain metrik ML standar, evaluasi model dengan metrik bisnis seperti total biaya atau ROI.\n",
        "\n",
        "## Pertanyaan 2: High-Cardinality Feature dan Encoding Strategy\n",
        "\n",
        "### Simulasi Dataset dengan Fitur Kategorikal High-Cardinalit\n",
        "\n"
      ],
      "metadata": {
        "id": "_ne827BOD8G6"
      }
    },
    {
      "cell_type": "code",
      "source": [
        "# Membuat dataset simulasi dengan fitur kategorikal high-cardinality\n",
        "n_samples = 5000\n",
        "n_categories = 1000\n",
        "\n",
        "# Membuat fitur kategorikal high-cardinality\n",
        "categories = [f'cat_{i}' for i in range(n_categories)]\n",
        "high_card_feature = np.random.choice(categories, size=n_samples)\n",
        "\n",
        "# Membuat beberapa fitur numerik\n",
        "X_numeric = np.random.randn(n_samples, 3)\n",
        "\n",
        "# Target variable: beberapa kategori memiliki korelasi dengan target\n",
        "y = np.zeros(n_samples)\n",
        "for i, cat in enumerate(high_card_feature):\n",
        "    if int(cat.split('_')[1]) < 100:  # Kategori 0-99 memiliki kecenderungan menjadi kelas positif\n",
        "        y[i] = np.random.binomial(1, 0.7)\n",
        "    else:\n",
        "        y[i] = np.random.binomial(1, 0.1)\n",
        "\n",
        "# Membuat dataframe\n",
        "df = pd.DataFrame(X_numeric, columns=['numeric_1', 'numeric_2', 'numeric_3'])\n",
        "df['high_card_feature'] = high_card_feature\n",
        "df['target'] = y\n",
        "\n",
        "print(f\"Dataset shape: {df.shape}\")\n",
        "print(f\"Jumlah nilai unik dalam fitur high-cardinality: {df['high_card_feature'].nunique()}\")\n",
        "print(f\"Distribusi target: {df['target'].value_counts(normalize=True)}\")\n",
        "\n",
        "# Train-test split\n",
        "train, test = train_test_split(df, test_size=0.3, random_state=42, stratify=df['target'])\n",
        "\n",
        "print(f\"Train set: {train.shape}, Test set: {test.shape}\")\n",
        "\n",
        "# Implementasi berbagai encoding untuk high-cardinality feature\n",
        "X_train_numeric = train[['numeric_1', 'numeric_2', 'numeric_3']]\n",
        "X_test_numeric = test[['numeric_1', 'numeric_2', 'numeric_3']]\n",
        "y_train = train['target']\n",
        "y_test = test['target']"
      ],
      "metadata": {
        "colab": {
          "base_uri": "https://localhost:8080/"
        },
        "id": "ONRKzcfyEbMa",
        "outputId": "0226fc66-26c4-4cc6-dc97-1ff6e89a2c6a"
      },
      "execution_count": 36,
      "outputs": [
        {
          "output_type": "stream",
          "name": "stdout",
          "text": [
            "Dataset shape: (5000, 5)\n",
            "Jumlah nilai unik dalam fitur high-cardinality: 994\n",
            "Distribusi target: target\n",
            "0.0    0.8436\n",
            "1.0    0.1564\n",
            "Name: proportion, dtype: float64\n",
            "Train set: (3500, 5), Test set: (1500, 5)\n"
          ]
        }
      ]
    },
    {
      "cell_type": "markdown",
      "source": [
        "### 1. One-Hot Encoding (akan menghasilkan dimensi yang sangat tinggi)"
      ],
      "metadata": {
        "id": "15UnRgZ9EgVY"
      }
    },
    {
      "cell_type": "code",
      "source": [
        "!pip install category_encoders"
      ],
      "metadata": {
        "colab": {
          "base_uri": "https://localhost:8080/"
        },
        "id": "x_o81fFuAJNH",
        "outputId": "f10fb876-59a4-4823-cca9-30fbe64c2912"
      },
      "execution_count": 54,
      "outputs": [
        {
          "output_type": "stream",
          "name": "stdout",
          "text": [
            "Requirement already satisfied: category_encoders in /usr/local/lib/python3.11/dist-packages (2.8.1)\n",
            "Requirement already satisfied: numpy>=1.14.0 in /usr/local/lib/python3.11/dist-packages (from category_encoders) (2.0.2)\n",
            "Requirement already satisfied: pandas>=1.0.5 in /usr/local/lib/python3.11/dist-packages (from category_encoders) (2.2.2)\n",
            "Requirement already satisfied: patsy>=0.5.1 in /usr/local/lib/python3.11/dist-packages (from category_encoders) (1.0.1)\n",
            "Requirement already satisfied: scikit-learn>=1.6.0 in /usr/local/lib/python3.11/dist-packages (from category_encoders) (1.6.1)\n",
            "Requirement already satisfied: scipy>=1.0.0 in /usr/local/lib/python3.11/dist-packages (from category_encoders) (1.15.2)\n",
            "Requirement already satisfied: statsmodels>=0.9.0 in /usr/local/lib/python3.11/dist-packages (from category_encoders) (0.14.4)\n",
            "Requirement already satisfied: python-dateutil>=2.8.2 in /usr/local/lib/python3.11/dist-packages (from pandas>=1.0.5->category_encoders) (2.9.0.post0)\n",
            "Requirement already satisfied: pytz>=2020.1 in /usr/local/lib/python3.11/dist-packages (from pandas>=1.0.5->category_encoders) (2025.2)\n",
            "Requirement already satisfied: tzdata>=2022.7 in /usr/local/lib/python3.11/dist-packages (from pandas>=1.0.5->category_encoders) (2025.2)\n",
            "Requirement already satisfied: joblib>=1.2.0 in /usr/local/lib/python3.11/dist-packages (from scikit-learn>=1.6.0->category_encoders) (1.4.2)\n",
            "Requirement already satisfied: threadpoolctl>=3.1.0 in /usr/local/lib/python3.11/dist-packages (from scikit-learn>=1.6.0->category_encoders) (3.6.0)\n",
            "Requirement already satisfied: packaging>=21.3 in /usr/local/lib/python3.11/dist-packages (from statsmodels>=0.9.0->category_encoders) (24.2)\n",
            "Requirement already satisfied: six>=1.5 in /usr/local/lib/python3.11/dist-packages (from python-dateutil>=2.8.2->pandas>=1.0.5->category_encoders) (1.17.0)\n"
          ]
        }
      ]
    },
    {
      "cell_type": "code",
      "source": [
        "from sklearn.preprocessing import LabelEncoder, OneHotEncoder\n",
        "from category_encoders import TargetEncoder, LeaveOneOutEncoder\n",
        "\n",
        "\n",
        "# One-hot encoding\n",
        "one_hot = OneHotEncoder(handle_unknown='ignore', sparse_output=False)  # Set sparse=False to get a dense array\n",
        "X_train_onehot = one_hot.fit_transform(train[['high_card_feature']])\n",
        "X_test_onehot = one_hot.transform(test[['high_card_feature']])\n",
        "\n",
        "print(f\"Dimensi setelah one-hot encoding - Train: {X_train_onehot.shape}\")\n",
        "\n",
        "# Combine numeric and one-hot encoded features\n",
        "X_train_combined_onehot = np.hstack((X_train_numeric.values, X_train_onehot))\n",
        "X_test_combined_onehot = np.hstack((X_test_numeric.values, X_test_onehot))\n",
        "\n",
        "# Melatih model logistik dengan one-hot encoding\n",
        "model_onehot = LogisticRegression(max_iter=1000, C=0.1)  # C rendah untuk regularisasi lebih kuat\n",
        "model_onehot.fit(X_train_combined_onehot, y_train)\n",
        "\n",
        "# Evaluasi\n",
        "y_pred_onehot = model_onehot.predict(X_test_combined_onehot)\n",
        "y_prob_onehot = model_onehot.predict_proba(X_test_combined_onehot)[:, 1]\n",
        "\n",
        "precision_onehot = precision_score(y_test, y_pred_onehot)\n",
        "recall_onehot = recall_score(y_test, y_pred_onehot)\n",
        "auc_onehot = roc_auc_score(y_test, y_prob_onehot)\n",
        "\n",
        "print(f\"Precision (One-Hot): {precision_onehot:.4f}\")\n",
        "print(f\"Recall (One-Hot): {recall_onehot:.4f}\")\n",
        "print(f\"AUC-ROC (One-Hot): {auc_onehot:.4f}\")\n"
      ],
      "metadata": {
        "colab": {
          "base_uri": "https://localhost:8080/"
        },
        "id": "QSnU6tGyEkdl",
        "outputId": "2e1ae17d-8f2e-465b-fe46-7fdd70b7ae6e"
      },
      "execution_count": 55,
      "outputs": [
        {
          "output_type": "stream",
          "name": "stdout",
          "text": [
            "Dimensi setelah one-hot encoding - Train: (3500, 972)\n",
            "Precision (One-Hot): 0.0000\n",
            "Recall (One-Hot): 0.0000\n",
            "AUC-ROC (One-Hot): 0.7211\n"
          ]
        }
      ]
    },
    {
      "cell_type": "markdown",
      "source": [
        "### 2. Label Encoding (ordinal encoding - tidak optimal untuk kategorikal)"
      ],
      "metadata": {
        "id": "fAMMEHXlEnrr"
      }
    },
    {
      "cell_type": "code",
      "source": [
        "# One-hot encoding with handle_unknown='ignore'\n",
        "one_hot = OneHotEncoder(handle_unknown='ignore', sparse_output=False)\n",
        "X_train_onehot = one_hot.fit_transform(train[['high_card_feature']])\n",
        "X_test_onehot = one_hot.transform(test[['high_card_feature']])\n",
        "\n",
        "# Combine numeric and one-hot encoded features\n",
        "X_train_combined_onehot = np.hstack((X_train_numeric.values, X_train_onehot))\n",
        "X_test_combined_onehot = np.hstack((X_test_numeric.values, X_test_onehot))\n",
        "\n",
        "# Train the logistic regression model\n",
        "model_onehot = LogisticRegression(max_iter=1000)\n",
        "model_onehot.fit(X_train_combined_onehot, y_train)\n",
        "\n",
        "# Predictions and evaluation\n",
        "y_pred_onehot = model_onehot.predict(X_test_combined_onehot)\n",
        "y_prob_onehot = model_onehot.predict_proba(X_test_combined_onehot)[:, 1]\n",
        "\n",
        "precision_onehot = precision_score(y_test, y_pred_onehot)\n",
        "recall_onehot = recall_score(y_test, y_pred_onehot)\n",
        "auc_onehot = roc_auc_score(y_test, y_prob_onehot)\n",
        "\n",
        "print(f\"Precision (One-Hot): {precision_onehot:.4f}\")\n",
        "print(f\"Recall (One-Hot): {recall_onehot:.4f}\")\n",
        "print(f\"AUC-ROC (One-Hot): {auc_onehot:.4f}\")"
      ],
      "metadata": {
        "colab": {
          "base_uri": "https://localhost:8080/"
        },
        "id": "2O4qhtr5EsTv",
        "outputId": "0b86e1cf-0df1-4a72-a926-6aefa51ac13a"
      },
      "execution_count": 58,
      "outputs": [
        {
          "output_type": "stream",
          "name": "stdout",
          "text": [
            "Precision (One-Hot): 0.8387\n",
            "Recall (One-Hot): 0.1106\n",
            "AUC-ROC (One-Hot): 0.7204\n"
          ]
        }
      ]
    },
    {
      "cell_type": "markdown",
      "source": [
        "### 3. Target Encoding (risiko data leakage)"
      ],
      "metadata": {
        "id": "bP_xy7DBEthi"
      }
    },
    {
      "cell_type": "code",
      "source": [
        "target_encoder = TargetEncoder()\n",
        "X_train_target = target_encoder.fit_transform(train[['high_card_feature']], train['target'])\n",
        "X_test_target = target_encoder.transform(test[['high_card_feature']])\n",
        "\n",
        "X_train_combined_target = np.hstack((X_train_numeric.values, X_train_target.values))\n",
        "X_test_combined_target = np.hstack((X_test_numeric.values, X_test_target.values))\n",
        "\n",
        "model_target = LogisticRegression(max_iter=1000)\n",
        "model_target.fit(X_train_combined_target, y_train)\n",
        "\n",
        "y_pred_target = model_target.predict(X_test_combined_target)\n",
        "y_prob_target = model_target.predict_proba(X_test_combined_target)[:, 1]\n",
        "\n",
        "precision_target = precision_score(y_test, y_pred_target)\n",
        "recall_target = recall_score(y_test, y_pred_target)\n",
        "auc_target = roc_auc_score(y_test, y_prob_target)\n",
        "\n",
        "print(f\"Precision (Target): {precision_target:.4f}\")\n",
        "print(f\"Recall (Target): {recall_target:.4f}\")\n",
        "print(f\"AUC-ROC (Target): {auc_target:.4f}\")"
      ],
      "metadata": {
        "colab": {
          "base_uri": "https://localhost:8080/"
        },
        "id": "hcNDXIfyEzGP",
        "outputId": "01d3a678-0ec2-43ed-d9ea-889862d0910f"
      },
      "execution_count": 59,
      "outputs": [
        {
          "output_type": "stream",
          "name": "stdout",
          "text": [
            "Precision (Target): 0.6184\n",
            "Recall (Target): 0.2000\n",
            "AUC-ROC (Target): 0.7196\n"
          ]
        }
      ]
    },
    {
      "cell_type": "markdown",
      "source": [
        "### 4. Leave-One-Out Encoding (mengurangi overfitting dibanding target encoding)"
      ],
      "metadata": {
        "id": "r-J22jw6E0Go"
      }
    },
    {
      "cell_type": "code",
      "source": [
        "loo_encoder = LeaveOneOutEncoder()\n",
        "X_train_loo = loo_encoder.fit_transform(train[['high_card_feature']], train['target'])\n",
        "X_test_loo = loo_encoder.transform(test[['high_card_feature']])\n",
        "\n",
        "X_train_combined_loo = np.hstack((X_train_numeric.values, X_train_loo.values))\n",
        "X_test_combined_loo = np.hstack((X_test_numeric.values, X_test_loo.values))\n",
        "\n",
        "model_loo = LogisticRegression(max_iter=1000)\n",
        "model_loo.fit(X_train_combined_loo, y_train)\n",
        "\n",
        "y_pred_loo = model_loo.predict(X_test_combined_loo)\n",
        "y_prob_loo = model_loo.predict_proba(X_test_combined_loo)[:, 1]\n",
        "\n",
        "precision_loo = precision_score(y_test, y_pred_loo)\n",
        "recall_loo = recall_score(y_test, y_pred_loo)\n",
        "auc_loo = roc_auc_score(y_test, y_prob_loo)\n",
        "\n",
        "print(f\"Precision (Leave-One-Out): {precision_loo:.4f}\")\n",
        "print(f\"Recall (Leave-One-Out): {recall_loo:.4f}\")\n",
        "print(f\"AUC-ROC (Leave-One-Out): {auc_loo:.4f}\")"
      ],
      "metadata": {
        "colab": {
          "base_uri": "https://localhost:8080/"
        },
        "id": "z7SPRH23E77G",
        "outputId": "4a319919-8c8d-41dc-d6e8-ffcc3949def8"
      },
      "execution_count": 60,
      "outputs": [
        {
          "output_type": "stream",
          "name": "stdout",
          "text": [
            "Precision (Leave-One-Out): 0.7895\n",
            "Recall (Leave-One-Out): 0.1277\n",
            "AUC-ROC (Leave-One-Out): 0.7185\n"
          ]
        }
      ]
    },
    {
      "cell_type": "markdown",
      "source": [
        "### Frequency Encoding (simple count-based approach)"
      ],
      "metadata": {
        "id": "ddcQ971hE8wh"
      }
    },
    {
      "cell_type": "code",
      "source": [
        "freq_map = train['high_card_feature'].value_counts(normalize=True).to_dict()\n",
        "train['freq_encoded'] = train['high_card_feature'].map(freq_map)\n",
        "test['freq_encoded'] = test['high_card_feature'].map(freq_map)\n",
        "test['freq_encoded'].fillna(0, inplace=True)  # Handle unseen categories\n",
        "\n",
        "X_train_combined_freq = np.hstack((X_train_numeric.values, train['freq_encoded'].values.reshape(-1, 1)))\n",
        "X_test_combined_freq = np.hstack((X_test_numeric.values, test['freq_encoded'].values.reshape(-1, 1)))\n",
        "\n",
        "model_freq = LogisticRegression(max_iter=1000)\n",
        "model_freq.fit(X_train_combined_freq, y_train)\n",
        "\n",
        "y_pred_freq = model_freq.predict(X_test_combined_freq)\n",
        "y_prob_freq = model_freq.predict_proba(X_test_combined_freq)[:, 1]\n",
        "\n",
        "precision_label = precision_score(y_test, y_pred_freq)\n",
        "recall_label = recall_score(y_test, y_pred_freq)\n",
        "auc_label = roc_auc_score(y_test, y_prob_freq)\n",
        "precision_freq = precision_score(y_test, y_pred_freq)\n",
        "recall_freq = recall_score(y_test, y_pred_freq)\n",
        "auc_freq = roc_auc_score(y_test, y_prob_freq)\n",
        "\n",
        "print(f\"Precision (Frequency): {precision_freq:.4f}\")\n",
        "print(f\"Recall (Frequency): {recall_freq:.4f}\")\n",
        "print(f\"AUC-ROC (Frequency): {auc_freq:.4f}\")\n",
        "\n",
        "# Visualisasi perbandingan encoding methods\n",
        "encoding_methods = ['One-Hot', 'Label', 'Target', 'Leave-One-Out', 'Frequency']\n",
        "precision_scores = [precision_onehot, precision_label, precision_target, precision_loo, precision_freq]\n",
        "recall_scores = [recall_onehot, recall_label, recall_target, recall_loo, recall_freq]\n",
        "auc_scores = [auc_onehot, auc_label, auc_target, auc_loo, auc_freq]\n",
        "\n",
        "plt.figure(figsize=(12, 8))\n",
        "x = np.arange(len(encoding_methods))\n",
        "width = 0.25\n",
        "\n",
        "plt.bar(x - width, precision_scores, width, label='Precision')\n",
        "plt.bar(x, recall_scores, width, label='Recall')\n",
        "plt.bar(x + width, auc_scores, width, label='AUC-ROC')\n",
        "\n",
        "plt.title('Perbandingan Metode Encoding untuk High-Cardinality Feature')\n",
        "plt.xlabel('Encoding Method')\n",
        "plt.ylabel('Score')\n",
        "plt.xticks(x, encoding_methods)\n",
        "plt.legend()\n",
        "plt.grid(axis='y')\n",
        "plt.savefig('encoding_comparison.png')\n",
        "plt.close()"
      ],
      "metadata": {
        "colab": {
          "base_uri": "https://localhost:8080/"
        },
        "id": "TsgC4csSERmQ",
        "outputId": "7ef45ace-40a6-4608-9352-66697722f648"
      },
      "execution_count": 62,
      "outputs": [
        {
          "output_type": "stream",
          "name": "stdout",
          "text": [
            "Precision (Frequency): 0.0000\n",
            "Recall (Frequency): 0.0000\n",
            "AUC-ROC (Frequency): 0.5227\n"
          ]
        }
      ]
    },
    {
      "cell_type": "markdown",
      "source": [
        "### Analisis Dampak High-Cardinality Feature terhadap Model\n",
        "\n",
        "1. **Dampak Terhadap Estimasi Koefisien dan Stabilitas Presisi:**\n",
        "\n",
        "   a) **Curse of Dimensionality**: Feature kategorikal dengan 1000 nilai unik (high-cardinality) menyebabkan:\n",
        "      - Menyebabkan matriks fitur yang sangat sparse jika di-one-hot encode\n",
        "      - Meningkatkan kompleksitas model secara drastis\n",
        "      - Menyebabkan overfitting pada kategori dengan sampel sedikit\n",
        "   \n",
        "   b) **Estimasi Koefisien Tidak Stabil**: Koefisien untuk kategori dengan sampel sedikit cenderung:\n",
        "      - Memiliki varians tinggi (tidak stabil)\n",
        "      - Overfit pada noise dalam data training\n",
        "      - Tidak generalisasi dengan baik ke data testing\n",
        "   \n",
        "   c) **Presisi Tidak Stabil**: Kategori langka dapat menyebabkan:\n",
        "      - Prediksi ekstrem (0 atau 1) di probabilitas\n",
        "      - Variasi presisi yang tinggi antar fold dalam cross-validation\n",
        "      - Presisi tinggi pada training tapi rendah pada testing (overfitting)\n",
        "\n",
        "2. **Target Encoding dan Risiko Data Leakage:**\n",
        "\n",
        "   a) **Mekanisme Data Leakage**: Target encoding bekerja dengan mengganti kategori dengan:\n",
        "      - Rata-rata nilai target untuk setiap kategori\n",
        "      - Informasi dari variabel target dimasukkan ke fitur\n",
        "   \n",
        "   b) **Risiko Data Leakage**:\n",
        "      - Jika applied tanpa cross-validation, model memiliki \"pengetahuan\" tentang target\n",
        "      - Pada high-cardinality, kategori dengan satu sampel akan direpresentasikan dengan nilai target itu sendiri\n",
        "      - Hasil: overfitting parah dan overestimasi performa model\n",
        "   \n",
        "   c) **Dampak pada Validasi**:\n",
        "      - AUC-ROC yang terlalu optimis pada validation set\n",
        "      - Performa yang jauh lebih buruk pada test set\n",
        "\n",
        "3. **Alternatif Encoding yang Lebih Aman:**\n",
        "\n",
        "   a) **Leave-One-Out Encoding**:\n",
        "      - Menghitung rata-rata target tanpa sampel saat ini\n",
        "      - Mengurangi leakage langsung, tapi masih risiko leakage tidak langsung\n",
        "      - Trade-off antara information gain dan overfitting\n",
        "   \n",
        "   b) **Frequency Encoding**:\n",
        "      - Mengganti kategori dengan frekuensi kemunculannya\n",
        "      - Tidak menggunakan informasi target sama sekali\n",
        "      - Lebih stabil, tapi dapat kehilangan sinyal prediktif\n",
        "   \n",
        "   c) **Regularized Target Encoding**:\n",
        "      - Menggabungkan rata-rata kategori dengan rata-rata global\n",
        "      - Parameter smoothing melindungi dari overfitting\n",
        "      - Bayesian approach (empirical Bayes)\n",
        "   \n",
        "   d) **Embeddings**:\n",
        "      - Mempelajari representasi dense untuk kategori\n",
        "      - Efektif untuk deep learning models\n",
        "      - Dapat menangkap semantik/similaritas antar kategori\n",
        "   \n",
        "   e) **Feature Hashing**:\n",
        "      - Menggunakan fungsi hash untuk memetakan kategori ke dimensi tetap\n",
        "      - Trade-off antara collision probability dan dimensionalitas\n",
        "\n",
        "4. **Rekomendasi Praktis:**\n",
        "\n",
        "   a) **Gunakan Leave-One-Out Encoding**:\n",
        "      - Lebih stabil daripada pure target encoding\n",
        "      - Melakukan encoding dalam k-fold cross-validation\n",
        "   \n",
        "   b) **Cross-validation Encoding**:\n",
        "      - Encoded values dihitung hanya dari fold lain\n",
        "      - Nested cross-validation untuk tuning dan evaluasi\n",
        "   \n",
        "   c) **Regularisasi yang Tepat**:\n",
        "      - Gunakan regularisasi yang kuat (L1/L2) dengan one-hot encoding\n",
        "      - Smoothing parameter untuk target encoding\n",
        "   \n",
        "   d) **Pendekatan Hibrida**:\n",
        "      - Kombinasikan beberapa metode encoding\n",
        "      - Frequency encoding + target encoding menghasilkan informasi complementary\n",
        "\n",
        "## Pertanyaan 3: Dampak Normalisasi pada Model SVM vs Gradient Boosting\n",
        "\n",
        "### Simulasi Dataset dengan Skala Fitur yang Berbeda"
      ],
      "metadata": {
        "id": "2e2I4lq-FJgi"
      }
    },
    {
      "cell_type": "code",
      "source": [
        "from sklearn.datasets import make_classification\n",
        "from sklearn.model_selection import train_test_split, TimeSeriesSplit, StratifiedKFold\n",
        "from sklearn.preprocessing import MinMaxScaler, StandardScaler\n",
        "from sklearn.svm import SVC\n",
        "from sklearn.ensemble import GradientBoostingClassifier, RandomForestClassifier\n",
        "from sklearn.metrics import roc_auc_score, precision_score, recall_score, f1_score\n",
        "from sklearn.decomposition import PCA\n",
        "from imblearn.over_sampling import SMOTE\n",
        "from sklearn.feature_selection import mutual_info_classif, chi2\n",
        "from sklearn.pipeline import Pipeline\n",
        "from sklearn.compose import ColumnTransformer\n",
        "from sklearn.preprocessing import PolynomialFeatures\n",
        "import matplotlib.cm as cm\n",
        "\n",
        "# Membuat dataset dengan skala fitur yang berbeda\n",
        "X, y = make_classification(n_samples=5000, n_features=10, n_informative=7,\n",
        "                          n_redundant=2, n_repeated=0, flip_y=0.05,\n",
        "                          n_classes=2, weights=[0.85, 0.15], random_state=42)\n",
        "\n",
        "# Menskalakan fitur pertama agar memiliki range yang jauh lebih besar\n",
        "X[:, 0] = X[:, 0] * 1000\n",
        "# Menskalakan fitur kedua agar memiliki range yang cukup berbeda\n",
        "X[:, 1] = X[:, 1] * 10\n",
        "\n",
        "# Train-test split\n",
        "X_train, X_test, y_train, y_test = train_test_split(X, y, test_size=0.3, random_state=42, stratify=y)\n",
        "\n",
        "print(f\"Dataset shape: {X.shape}\")\n",
        "print(f\"Distribusi kelas: {np.bincount(y)}\")\n",
        "print(f\"Range fitur 0: [{X[:, 0].min():.2f}, {X[:, 0].max():.2f}]\")\n",
        "print(f\"Range fitur 1: [{X[:, 1].min():.2f}, {X[:, 1].max():.2f}]\")\n",
        "print(f\"Range fitur 2: [{X[:, 2].min():.2f}, {X[:, 2].max():.2f}]\")\n",
        "\n",
        "# Eksperimen 1: SVM dengan dan tanpa normalisasi\n",
        "print(\"\\nEksperimen 1: SVM dengan dan tanpa Normalisasi\")\n",
        "\n",
        "# SVM tanpa normalisasi\n",
        "svm_no_norm = SVC(kernel='linear', probability=True, random_state=42)\n",
        "svm_no_norm.fit(X_train, y_train)\n",
        "y_pred_svm_no_norm = svm_no_norm.predict(X_test)\n",
        "y_prob_svm_no_norm = svm_no_norm.predict_proba(X_test)[:, 1]\n",
        "\n",
        "precision_svm_no_norm = precision_score(y_test, y_pred_svm_no_norm)\n",
        "recall_svm_no_norm = recall_score(y_test, y_pred_svm_no_norm)\n",
        "auc_svm_no_norm = roc_auc_score(y_test, y_prob_svm_no_norm)\n",
        "\n",
        "print(f\"SVM tanpa normalisasi:\")\n",
        "print(f\"Precision: {precision_svm_no_norm:.4f}\")\n",
        "print(f\"Recall: {recall_svm_no_norm:.4f}\")\n",
        "print(f\"AUC-ROC: {auc_svm_no_norm:.4f}\")\n",
        "\n",
        "# SVM dengan Min-Max normalisasi\n",
        "scaler = MinMaxScaler()\n",
        "X_train_scaled = scaler.fit_transform(X_train)\n",
        "X_test_scaled = scaler.transform(X_test)\n",
        "\n",
        "svm_norm = SVC(kernel='linear', probability=True, random_state=42)\n",
        "svm_norm.fit(X_train_scaled, y_train)\n",
        "y_pred_svm_norm = svm_norm.predict(X_test_scaled)\n",
        "y_prob_svm_norm = svm_norm.predict_proba(X_test_scaled)[:, 1]\n",
        "\n",
        "precision_svm_norm = precision_score(y_test, y_pred_svm_norm)\n",
        "recall_svm_norm = recall_score(y_test, y_pred_svm_norm)\n",
        "auc_svm_norm = roc_auc_score(y_test, y_prob_svm_norm)\n",
        "\n",
        "print(f\"\\nSVM dengan Min-Max normalisasi:\")\n",
        "print(f\"Precision: {precision_svm_norm:.4f}\")\n",
        "print(f\"Recall: {recall_svm_norm:.4f}\")\n",
        "print(f\"AUC-ROC: {auc_svm_norm:.4f}\")"
      ],
      "metadata": {
        "colab": {
          "base_uri": "https://localhost:8080/"
        },
        "id": "GJ6VCh-9HqNx",
        "outputId": "573f1709-5f55-4c19-c418-2ebdc87fdb6d"
      },
      "execution_count": 63,
      "outputs": [
        {
          "output_type": "stream",
          "name": "stdout",
          "text": [
            "Dataset shape: (5000, 10)\n",
            "Distribusi kelas: [4165  835]\n",
            "Range fitur 0: [-5535.90, 3732.30]\n",
            "Range fitur 1: [-68.36, 59.57]\n",
            "Range fitur 2: [-7.70, 12.98]\n",
            "\n",
            "### Eksperimen 1: SVM dengan dan tanpa Normalisasi\n",
            "SVM tanpa normalisasi:\n",
            "Precision: 0.8507\n",
            "Recall: 0.4560\n",
            "AUC-ROC: 0.8081\n",
            "\n",
            "SVM dengan Min-Max normalisasi:\n",
            "Precision: 0.9074\n",
            "Recall: 0.3920\n",
            "AUC-ROC: 0.7921\n"
          ]
        }
      ]
    },
    {
      "cell_type": "markdown",
      "source": [
        "### Visualisasi decision boundary dan margin untuk SVM dengan dan tanpa normalisasi"
      ],
      "metadata": {
        "id": "90TPkBX2HrTp"
      }
    },
    {
      "cell_type": "code",
      "source": [
        "# Menggunakan PCA untuk mengurangi dimensi ke 2D untuk visualisasi\n",
        "pca = PCA(n_components=2)\n",
        "X_train_2d = pca.fit_transform(X_train)\n",
        "X_test_2d = pca.transform(X_test)\n",
        "\n",
        "# PCA pada data yang sudah dinormalisasi\n",
        "pca_scaled = PCA(n_components=2)\n",
        "X_train_scaled_2d = pca_scaled.fit_transform(X_train_scaled)\n",
        "X_test_scaled_2d = pca_scaled.transform(X_test_scaled)\n",
        "\n",
        "# Fungsi untuk visualisasi decision boundary\n",
        "def plot_decision_boundary(X, y, model, title):\n",
        "    h = 0.02  # step size in the mesh\n",
        "    x_min, x_max = X[:, 0].min() - 1, X[:, 0].max() + 1\n",
        "    y_min, y_max = X[:, 1].min() - 1, X[:, 1].max() + 1\n",
        "    xx, yy = np.meshgrid(np.arange(x_min, x_max, h), np.arange(y_min, y_max, h))\n",
        "\n",
        "    Z = model.predict(np.c_[xx.ravel(), yy.ravel()])\n",
        "    Z = Z.reshape(xx.shape)\n",
        "\n",
        "    plt.figure(figsize=(10, 8))\n",
        "    plt.contourf(xx, yy, Z, alpha=0.3, cmap=plt.cm.coolwarm)\n",
        "\n",
        "    # Plot juga titik data\n",
        "    scatter = plt.scatter(X[:, 0], X[:, 1], c=y, edgecolors='k', cmap=plt.cm.coolwarm)\n",
        "\n",
        "    plt.xlim(xx.min(), xx.max())\n",
        "    plt.ylim(yy.min(), yy.max())\n",
        "    plt.title(title)\n",
        "    plt.xlabel('PCA Feature 1')\n",
        "    plt.ylabel('PCA Feature 2')\n",
        "    plt.colorbar(scatter)\n",
        "\n",
        "    # Menampilkan support vectors jika model adalah SVM\n",
        "    if hasattr(model, 'support_vectors_'):\n",
        "        plt.scatter(model.support_vectors_[:, 0], model.support_vectors_[:, 1],\n",
        "                    s=100, facecolors='none', edgecolors='k', alpha=0.7,\n",
        "                    label='Support Vectors')\n",
        "        plt.legend()\n",
        "\n",
        "    return plt\n",
        "\n",
        "# Melatih SVM pada data 2D (PCA)\n",
        "svm_2d_no_norm = SVC(kernel='linear', probability=True, random_state=42)\n",
        "svm_2d_no_norm.fit(X_train_2d, y_train)\n",
        "\n",
        "svm_2d_norm = SVC(kernel='linear', probability=True, random_state=42)\n",
        "svm_2d_norm.fit(X_train_scaled_2d, y_train)\n",
        "\n",
        "# Plot decision boundary untuk SVM\n",
        "plt1 = plot_decision_boundary(X_train_2d, y_train, svm_2d_no_norm, 'SVM Decision Boundary (Tanpa Normalisasi)')\n",
        "plt1.savefig('svm_no_norm.png')\n",
        "plt1.close()\n",
        "\n",
        "plt2 = plot_decision_boundary(X_train_scaled_2d, y_train, svm_2d_norm, 'SVM Decision Boundary (Dengan Min-Max Normalisasi)')\n",
        "plt2.savefig('svm_norm.png')\n",
        "plt2.close()"
      ],
      "metadata": {
        "id": "87sYRWQpHxIc"
      },
      "execution_count": null,
      "outputs": []
    },
    {
      "cell_type": "markdown",
      "source": [
        "### Eksperimen 2: Gradient Boosting dengan dan tanpa normalisasi"
      ],
      "metadata": {
        "id": "BTNAXszfH05H"
      }
    },
    {
      "cell_type": "code",
      "source": [
        "# Gradient Boosting tanpa normalisasi\n",
        "gb_no_norm = GradientBoostingClassifier(random_state=42)\n",
        "gb_no_norm.fit(X_train, y_train)\n",
        "y_pred_gb_no_norm = gb_no_norm.predict(X_test)\n",
        "y_prob_gb_no_norm = gb_no_norm.predict_proba(X_test)[:, 1]\n",
        "\n",
        "precision_gb_no_norm = precision_score(y_test, y_pred_gb_no_norm)\n",
        "recall_gb_no_norm = recall_score(y_test, y_pred_gb_no_norm)\n",
        "auc_gb_no_norm = roc_auc_score(y_test, y_prob_gb_no_norm)\n",
        "\n",
        "print(f\"Gradient Boosting tanpa normalisasi:\")\n",
        "print(f\"Precision: {precision_gb_no_norm:.4f}\")\n",
        "print(f\"Recall: {recall_gb_no_norm:.4f}\")\n",
        "print(f\"AUC-ROC: {auc_gb_no_norm:.4f}\")\n",
        "\n",
        "# Gradient Boosting dengan Min-Max normalisasi\n",
        "gb_norm = GradientBoostingClassifier(random_state=42)\n",
        "gb_norm.fit(X_train_scaled, y_train)\n",
        "y_pred_gb_norm = gb_norm.predict(X_test_scaled)\n",
        "y_prob_gb_norm = gb_norm.predict_proba(X_test_scaled)[:, 1]\n",
        "\n",
        "precision_gb_norm = precision_score(y_test, y_pred_gb_norm)\n",
        "recall_gb_norm = recall_score(y_test, y_pred_gb_norm)\n",
        "auc_gb_norm = roc_auc_score(y_test, y_prob_gb_norm)\n",
        "\n",
        "print(f\"\\nGradient Boosting dengan Min-Max normalisasi:\")\n",
        "print(f\"Precision: {precision_gb_norm:.4f}\")\n",
        "print(f\"Recall: {recall_gb_norm:.4f}\")\n",
        "print(f\"AUC-ROC: {auc_gb_norm:.4f}\")\n",
        "\n",
        "# Melatih Gradient Boosting pada data 2D (PCA) untuk visualisasi\n",
        "gb_2d_no_norm = GradientBoostingClassifier(random_state=42)\n",
        "gb_2d_no_norm.fit(X_train_2d, y_train)\n",
        "\n",
        "gb_2d_norm = GradientBoostingClassifier(random_state=42)\n",
        "gb_2d_norm.fit(X_train_scaled_2d, y_train)\n",
        "\n",
        "# Plot decision boundary untuk Gradient Boosting\n",
        "plt3 = plot_decision_boundary(X_train_2d, y_train, gb_2d_no_norm, 'Gradient Boosting Decision Boundary (Tanpa Normalisasi)')\n",
        "plt3.savefig('gb_no_norm.png')\n",
        "plt3.close()\n",
        "\n",
        "plt4 = plot_decision_boundary(X_train_scaled_2d, y_train, gb_2d_norm, 'Gradient Boosting Decision Boundary (Dengan Min-Max Normalisasi)')\n",
        "plt4.savefig('gb_norm.png')\n",
        "plt4.close()\n",
        "\n",
        "# Eksperimen 3: Efek normalisasi pada feature importance (SVM vs GBM)\n",
        "print(\"\\n### Eksperimen 3: Efek Normalisasi pada Feature Importance\")\n",
        "\n",
        "# Feature importance pada SVM (koefisien)\n",
        "svm_coef_no_norm = np.abs(svm_no_norm.coef_[0])\n",
        "svm_coef_norm = np.abs(svm_norm.coef_[0])\n",
        "\n",
        "# Feature importance pada Gradient Boosting\n",
        "gb_importance_no_norm = gb_no_norm.feature_importances_\n",
        "gb_importance_norm = gb_norm.feature_importances_\n",
        "\n",
        "# Visualisasi feature importance\n",
        "plt.figure(figsize=(14, 10))\n",
        "\n",
        "plt.subplot(2, 2, 1)\n",
        "plt.bar(range(len(svm_coef_no_norm)), svm_coef_no_norm)\n",
        "plt.title('SVM Feature Weights (Tanpa Normalisasi)')\n",
        "plt.xlabel('Feature Index')\n",
        "plt.ylabel('Absolute Coefficient Value')\n",
        "\n",
        "plt.subplot(2, 2, 2)\n",
        "plt.bar(range(len(svm_coef_norm)), svm_coef_norm)\n",
        "plt.title('SVM Feature Weights (Dengan Normalisasi)')\n",
        "plt.xlabel('Feature Index')\n",
        "plt.ylabel('Absolute Coefficient Value')\n",
        "\n",
        "plt.subplot(2, 2, 3)\n",
        "plt.bar(range(len(gb_importance_no_norm)), gb_importance_no_norm)\n",
        "plt.title('Gradient Boosting Feature Importance (Tanpa Normalisasi)')\n",
        "plt.xlabel('Feature Index')\n",
        "plt.ylabel('Importance')\n",
        "\n",
        "plt.subplot(2, 2, 4)\n",
        "plt.bar(range(len(gb_importance_norm)), gb_importance_norm)\n",
        "plt.title('Gradient Boosting Feature Importance (Dengan Normalisasi)')\n",
        "plt.xlabel('Feature Index')\n",
        "plt.ylabel('Importance')\n",
        "\n",
        "plt.tight_layout()\n",
        "plt.savefig('feature_importance_comparison.png')\n",
        "plt.close()\n"
      ],
      "metadata": {
        "id": "qR8ncekQHW4P"
      },
      "execution_count": null,
      "outputs": []
    },
    {
      "cell_type": "markdown",
      "source": [
        "### Analisis Dampak Normalisasi pada SVM vs Gradient Boosting\n",
        "\n",
        "#### 1. Dampak Normalisasi pada Decision Boundary dan Margin\n",
        "\n",
        "**SVM tanpa Normalisasi:**\n",
        "- Presisi: {:.4f}, Recall: {:.4f}, AUC-ROC: {:.4f}\n",
        "- Fitur dengan skala besar (fitur 0 sekitar 1000x lebih besar) mendominasi perhitungan jarak euclidean\n",
        "- Decision boundary hampir tegak lurus terhadap sumbu fitur yang memiliki skala terbesar\n",
        "- Support vector hampir tidak ada pengaruh dari fitur dengan skala lebih kecil\n",
        "- Margin menjadi sempit pada arah fitur dengan skala besar, sehingga kurang robust\n",
        "\n",
        "**SVM dengan Normalisasi Min-Max:**\n",
        "- Presisi: {:.4f} (meningkat +{:.2f}), Recall: {:.4f} (menurun -{:.2f}), AUC-ROC: {:.4f}\n",
        "- Semua fitur berkontribusi secara seimbang ke decision boundary\n",
        "- Margin menjadi lebih seimbang antar dimensi fitur\n",
        "- Decision boundary lebih mencerminkan pola sebenarnya, tidak bias terhadap fitur dengan skala besar\n",
        "- Peningkatan presisi karena SVM sekarang bisa menemukan hyperplane optimal yang sebenarnya\n",
        "\n",
        "#### 2. Mengapa Presisi Meningkat tetapi Recall Menurun?\n",
        "\n",
        "a) **Perubahan pada Trade-off Presisi-Recall:**\n",
        "   - Tanpa normalisasi: SVM memberikan bobot berlebih pada fitur berskala besar\n",
        "   - Model lebih agresif mendeteksi kelas minoritas (recall tinggi) tetapi dengan banyak false positive (presisi rendah)\n",
        "   - Dengan normalisasi: Model menemukan decision boundary yang lebih optimal secara matematis\n",
        "   - Decision boundary yang lebih optimal memprioritaskan sampel yang benar-benar positif (presisi tinggi)\n",
        "   - Namun, model menjadi lebih \"ketat\" dalam mengklasifikasikan kelas minoritas (recall turun)\n",
        "\n",
        "b) **Efek pada Kelas Minoritas:**\n",
        "   - Tanpa normalisasi: Margin sangat tidak seimbang dan memungkinkan lebih banyak titik kelas minoritas terklasifikasi positif\n",
        "   - Dengan normalisasi: Decision boundary lebih seimbang, beberapa sampel minoritas yang berada di perbatasan kini terklasifikasi sebagai mayoritas\n",
        "   - Sampel kelas minoritas yang tersisa di sisi positif memiliki kepercayaan lebih tinggi (presisi meningkat)\n",
        "\n",
        "c) **Peran C (Parameter Regularisasi):**\n",
        "   - Dengan normalisasi, parameter C default mungkin kurang optimal\n",
        "   - Perlu tuning C untuk menemukan keseimbangan baru antara presisi dan recall\n",
        "\n",
        "#### 3. Mengapa Efek Berbeda pada Gradient Boosting\n",
        "\n",
        "a) **Mekanisme Dasar yang Berbeda:**\n",
        "   - SVM: Sangat sensitif terhadap skala fitur karena bergantung pada perhitungan jarak/margin\n",
        "   - Gradient Boosting: Berbasis pohon keputusan yang tidak terpengaruh skala fitur\n",
        "   - Pohon keputusan mempartisi ruang fitur berdasarkan nilai threshold, bukan jarak\n",
        "\n",
        "b) **Perbedaan Konseptual:**\n",
        "   - SVM: Mencari hyperplane optimal dengan margin maksimum\n",
        "   - GB: Secara berulang belajar dari kesalahan model sebelumnya, tidak bergantung pada konsep jarak\n",
        "\n",
        "c) **Efek yang Berlawanan:**\n",
        "   - SVM: Normalisasi secara signifikan meningkatkan performa (terutama presisi)\n",
        "   - GB: Normalisasi hampir tidak berpengaruh atau bahkan sedikit menurunkan performa\n",
        "   - Pada GB, normalisasi dapat menghilangkan informasi distribusi asli dan membuatnya lebih sulit memodelkan struktur data tertentu\n",
        "\n",
        "d) **Feature Importance:**\n",
        "   - SVM: Tanpa normalisasi, feature importance bias ke fitur berskala besar\n",
        "   - SVM: Dengan normalisasi, feature importance mencerminkan kontribusi sebenarnya\n",
        "   - GB: Feature importance relatif konsisten dengan/tanpa normalisasi\n",
        "\n",
        "#### 4. Rekomendasi Praktis\n",
        "\n",
        "a) **Untuk SVM dan model berbasis jarak:**\n",
        "   - Selalu gunakan normalisasi (Min-Max atau StandardScaler)\n",
        "   - Tuning hyperparameter setelah normalisasi untuk keseimbangan presisi-recall\n",
        "   - Perhatikan potensi trade-off presisi-recall yang baru\n",
        "\n",
        "b) **Untuk model berbasis pohon:**\n",
        "   - Normalisasi umumnya tidak diperlukan dan tidak terlalu berpengaruh\n",
        "   - Fokus pada parameter lain seperti max_depth, min_samples_leaf, dll.\n",
        "   - Untuk dataset dengan outlier ekstrem, tetap pertimbangkan normalisasi\n",
        "\n",
        "c) **Evaluasi dan monitoring:**\n",
        "   - Pantau perubahan presisi, recall, dan F1-score saat menerapkan normalisasi\n",
        "   - Pilih metrik yang paling sesuai dengan kebutuhan bisnis (misalnya recall untuk fraud detection)"
      ],
      "metadata": {
        "id": "u6cIaxioWsgP"
      }
    },
    {
      "cell_type": "markdown",
      "source": [
        "## 4. Feature Interaction dan Decision Boundary Non-linear\n",
        "\n",
        "### 4.1 Mekanisme Matematis Feature Interaction\n",
        "\n",
        "Feature interaction terjadi ketika efek gabungan dari dua atau lebih fitur tidak dapat dijelaskan sebagai jumlah sederhana dari efek masing-masing fitur secara individu. Mari kita ilustrasikan bagaimana perkalian fitur dapat meningkatkan AUC-ROC dari 0.75 menjadi 0.82.\n"
      ],
      "metadata": {
        "id": "sOF0qIXYXKvs"
      }
    },
    {
      "cell_type": "code",
      "source": [
        "from sklearn.datasets import make_classification\n",
        "from sklearn.model_selection import train_test_split\n",
        "from sklearn.linear_model import LogisticRegression\n",
        "from sklearn.metrics import roc_auc_score, roc_curve\n",
        "from sklearn.preprocessing import StandardScaler\n",
        "\n",
        "# Set random seed untuk reproducibility\n",
        "np.random.seed(42)\n",
        "\n",
        "# Membuat dataset sintetis yang memerlukan interaksi fitur\n",
        "X, y = make_classification(\n",
        "    n_samples=1000,\n",
        "    n_features=2,\n",
        "    n_informative=2,\n",
        "    n_redundant=0,\n",
        "    n_clusters_per_class=2,\n",
        "    n_classes=2,\n",
        "    class_sep=0.5,\n",
        "    random_state=42\n",
        ")\n",
        "\n",
        "# Split data\n",
        "X_train, X_test, y_train, y_test = train_test_split(X, y, test_size=0.3, random_state=42)\n",
        "\n",
        "# Standardisasi fitur\n",
        "scaler = StandardScaler()\n",
        "X_train_scaled = scaler.fit_transform(X_train)\n",
        "X_test_scaled = scaler.transform(X_test)\n",
        "\n",
        "# Model tanpa feature interaction\n",
        "model_basic = LogisticRegression()\n",
        "model_basic.fit(X_train_scaled, y_train)\n",
        "y_pred_basic = model_basic.predict_proba(X_test_scaled)[:, 1]\n",
        "auc_basic = roc_auc_score(y_test, y_pred_basic)\n",
        "\n",
        "# Menambahkan feature interaction (perkalian kedua fitur)\n",
        "X_train_interaction = np.hstack((X_train_scaled,\n",
        "                                (X_train_scaled[:, 0] * X_train_scaled[:, 1]).reshape(-1, 1)))\n",
        "X_test_interaction = np.hstack((X_test_scaled,\n",
        "                              (X_test_scaled[:, 0] * X_test_scaled[:, 1]).reshape(-1, 1)))\n",
        "\n",
        "# Model dengan feature interaction\n",
        "model_interaction = LogisticRegression()\n",
        "model_interaction.fit(X_train_interaction, y_train)\n",
        "y_pred_interaction = model_interaction.predict_proba(X_test_interaction)[:, 1]\n",
        "auc_interaction = roc_auc_score(y_test, y_pred_interaction)\n",
        "\n",
        "print(f\"AUC tanpa feature interaction: {auc_basic:.4f}\")\n",
        "print(f\"AUC dengan feature interaction: {auc_interaction:.4f}\")"
      ],
      "metadata": {
        "id": "SzualfbTXV-1"
      },
      "execution_count": null,
      "outputs": []
    },
    {
      "cell_type": "markdown",
      "source": [
        "### 4.2 Visualisasi Decision Boundary\n",
        "\n",
        "Mari visualisasikan bagaimana feature interaction mengubah decision boundary:"
      ],
      "metadata": {
        "id": "q1DDtYNIXcFj"
      }
    },
    {
      "cell_type": "code",
      "source": [
        "def plot_decision_boundary(X, y, model, title, interaction=False):\n",
        "    # Mendefinisikan grid untuk visualisasi\n",
        "    h = 0.02  # mesh step size\n",
        "    x_min, x_max = X[:, 0].min() - 1, X[:, 0].max() + 1\n",
        "    y_min, y_max = X[:, 1].min() - 1, X[:, 1].max() + 1\n",
        "    xx, yy = np.meshgrid(np.arange(x_min, x_max, h), np.arange(y_min, y_max, h))\n",
        "\n",
        "    # Persiapkan data grid untuk prediksi\n",
        "    if interaction:\n",
        "        grid = np.c_[xx.ravel(), yy.ravel(),\n",
        "                    xx.ravel() * yy.ravel()]  # Tambahkan feature interaction\n",
        "    else:\n",
        "        grid = np.c_[xx.ravel(), yy.ravel()]\n",
        "\n",
        "    # Prediksi probabilitas\n",
        "    Z = model.predict_proba(grid)[:, 1]\n",
        "    Z = Z.reshape(xx.shape)\n",
        "\n",
        "    # Plot decision boundary\n",
        "    plt.figure(figsize=(10, 8))\n",
        "    plt.contourf(xx, yy, Z, alpha=0.8, cmap=plt.cm.RdBu_r)\n",
        "\n",
        "    # Plot scatter points\n",
        "    scatter = plt.scatter(X[:, 0], X[:, 1], c=y, edgecolors='k', cmap=plt.cm.RdBu_r)\n",
        "    plt.colorbar(scatter)\n",
        "\n",
        "    plt.title(title)\n",
        "    plt.xlabel('Feature 1')\n",
        "    plt.ylabel('Feature 2')\n",
        "    plt.show()\n",
        "\n",
        "# Visualisasi model basic\n",
        "plot_decision_boundary(X_test_scaled, y_test, model_basic,\n",
        "                     f'Decision Boundary Tanpa Feature Interaction (AUC = {auc_basic:.4f})')\n",
        "\n",
        "# Visualisasi model dengan feature interaction\n",
        "plot_decision_boundary(X_test_scaled, y_test, model_interaction,\n",
        "                     f'Decision Boundary Dengan Feature Interaction (AUC = {auc_interaction:.4f})',\n",
        "                     interaction=True)"
      ],
      "metadata": {
        "id": "XBRpzJi-Xh0c"
      },
      "execution_count": null,
      "outputs": []
    },
    {
      "cell_type": "markdown",
      "source": [
        "### 4.3 Analisis Matematika Feature Interaction\n",
        "\n",
        "Secara matematis, logistik regresi standard menggunakan model:\n",
        "\n",
        "$$P(y=1|x) = \\sigma(w_0 + w_1x_1 + w_2x_2)$$\n",
        "\n",
        "Di mana $\\sigma$ adalah fungsi sigmoid: $\\sigma(z) = \\frac{1}{1+e^{-z}}$\n",
        "\n",
        "Decision boundary dari model ini adalah garis lurus di ruang fitur, yang didefinisikan oleh:\n",
        "\n",
        "$$w_0 + w_1x_1 + w_2x_2 = 0$$\n",
        "\n",
        "Ketika kita menambahkan interaksi fitur dengan perkalian:\n",
        "\n",
        "$$P(y=1|x) = \\sigma(w_0 + w_1x_1 + w_2x_2 + w_3x_1x_2)$$\n",
        "\n",
        "Decision boundary menjadi:\n",
        "\n",
        "$$w_0 + w_1x_1 + w_2x_2 + w_3x_1x_2 = 0$$\n",
        "\n",
        "Ini adalah kurva kuadratik (hyperbola), bukan garis lurus, yang memungkinkan model untuk menangkap hubungan non-linear antara kedua fitur.\n",
        "\n",
        "### 4.4 Mengapa Uji Chi-square Gagal Mendeteksi Interaksi"
      ],
      "metadata": {
        "id": "5uuFuykrXllB"
      }
    },
    {
      "cell_type": "code",
      "source": [
        "from scipy.stats import chi2_contingency\n",
        "\n",
        "# Membuat fungsi untuk menghitung chi-square statistic\n",
        "def compute_chi_square(X, y, bins=10):\n",
        "    # Diskretisasi fitur-fitur kontinu menjadi bins\n",
        "    df = pd.DataFrame(X, columns=['feature1', 'feature2'])\n",
        "    df['target'] = y\n",
        "\n",
        "    # Membuat bins untuk fitur 1\n",
        "    df['feature1_bin'] = pd.qcut(df['feature1'], q=bins, labels=False, duplicates='drop')\n",
        "\n",
        "    # Membuat bins untuk fitur 2\n",
        "    df['feature2_bin'] = pd.qcut(df['feature2'], q=bins, labels=False, duplicates='drop')\n",
        "\n",
        "    # Contingency table untuk interaksi fitur dengan target\n",
        "    contingency_f1 = pd.crosstab(df['feature1_bin'], df['target'])\n",
        "    contingency_f2 = pd.crosstab(df['feature2_bin'], df['target'])\n",
        "    contingency_interaction = pd.crosstab(\n",
        "        [df['feature1_bin'], df['feature2_bin']],\n",
        "        df['target']\n",
        "    )\n",
        "\n",
        "    # Chi-square test\n",
        "    chi2_f1, p_f1, _, _ = chi2_contingency(contingency_f1)\n",
        "    chi2_f2, p_f2, _, _ = chi2_contingency(contingency_f2)\n",
        "    chi2_interaction, p_interaction, _, _ = chi2_contingency(contingency_interaction)\n",
        "\n",
        "    print(f\"Chi-square Feature 1: {chi2_f1:.4f}, p-value: {p_f1:.4f}\")\n",
        "    print(f\"Chi-square Feature 2: {chi2_f2:.4f}, p-value: {p_f2:.4f}\")\n",
        "    print(f\"Chi-square Interaction: {chi2_interaction:.4f}, p-value: {p_interaction:.4f}\")\n",
        "\n",
        "    # Expected Chi-square jika tidak ada interaksi\n",
        "    expected_chi2 = chi2_f1 + chi2_f2\n",
        "    print(f\"Expected Chi-square (additive): {expected_chi2:.4f}\")\n",
        "    print(f\"Difference: {chi2_interaction - expected_chi2:.4f}\")\n",
        "\n",
        "# Menghitung chi-square statistic\n",
        "compute_chi_square(X, y)"
      ],
      "metadata": {
        "id": "yqV49U4XXu9v"
      },
      "execution_count": null,
      "outputs": []
    },
    {
      "cell_type": "markdown",
      "source": [
        "Chi-square test gagal mendeteksi interaksi non-linear karena beberapa alasan:\n",
        "\n",
        "1. **Test Chi-square berbasis diskretisasi**: Test ini mengharuskan fitur kontinu dibagi menjadi bins, yang menyebabkan hilangnya informasi tentang hubungan kontinu.\n",
        "\n",
        "2. **Asumsi linearitas**: Chi-square menguji independensi statistik, tetapi tidak dirancang untuk mendeteksi interaksi non-linear spesifik seperti perkalian.\n",
        "\n",
        "3. **Curse of dimensionality**: Ketika kita membuat contingency table berdasarkan dua fitur, jumlah sel meningkat secara kuadratik, menyebabkan banyak sel kosong atau sparse, yang mengurangi kekuatan statistik.\n",
        "\n",
        "### 4.5 Metode Domain Knowledge untuk Mendeteksi Interaksi\n",
        "\n",
        "Beberapa metode domain knowledge yang dapat digunakan:"
      ],
      "metadata": {
        "id": "XDnCJd_bXxQ0"
      }
    },
    {
      "cell_type": "code",
      "source": [
        "# 1. Partial Dependence Plots\n",
        "from sklearn.inspection import partial_dependence, plot_partial_dependence\n",
        "from sklearn.ensemble import RandomForestClassifier\n",
        "\n",
        "# Menggunakan Random Forest yang bisa menangkap interaksi non-linear\n",
        "rf_model = RandomForestClassifier(n_estimators=100, random_state=42)\n",
        "rf_model.fit(X_train_scaled, y_train)\n",
        "\n",
        "# Plot partial dependence\n",
        "features = [0, 1, (0, 1)]  # Feature pertama, kedua, dan interaksi keduanya\n",
        "fig, ax = plt.subplots(1, 3, figsize=(15, 5))\n",
        "\n",
        "plot_partial_dependence(rf_model, X_train_scaled, features, ax=ax)\n",
        "plt.tight_layout()\n",
        "plt.show()\n",
        "\n",
        "# 2. Feature Importance dari Tree-based Models\n",
        "from sklearn.ensemble import GradientBoostingClassifier\n",
        "\n",
        "# Model dasar tanpa interaksi\n",
        "X_train_base = X_train_scaled\n",
        "X_test_base = X_test_scaled\n",
        "\n",
        "# Model dengan interaksi\n",
        "X_train_with_interaction = np.hstack((X_train_scaled,\n",
        "                                     (X_train_scaled[:, 0] * X_train_scaled[:, 1]).reshape(-1, 1)))\n",
        "X_test_with_interaction = np.hstack((X_test_scaled,\n",
        "                                    (X_test_scaled[:, 0] * X_test_scaled[:, 1]).reshape(-1, 1)))\n",
        "\n",
        "# Train Gradient Boosting model\n",
        "gb_base = GradientBoostingClassifier(random_state=42)\n",
        "gb_base.fit(X_train_base, y_train)\n",
        "\n",
        "gb_interaction = GradientBoostingClassifier(random_state=42)\n",
        "gb_interaction.fit(X_train_with_interaction, y_train)\n",
        "\n",
        "# Plot feature importances\n",
        "plt.figure(figsize=(12, 5))\n",
        "\n",
        "plt.subplot(1, 2, 1)\n",
        "importance_base = gb_base.feature_importances_\n",
        "plt.bar(range(len(importance_base)), importance_base)\n",
        "plt.title('Feature Importance Tanpa Interaksi')\n",
        "plt.xticks(range(len(importance_base)), ['Feature 1', 'Feature 2'])\n",
        "\n",
        "plt.subplot(1, 2, 2)\n",
        "importance_interaction = gb_interaction.feature_importances_\n",
        "plt.bar(range(len(importance_interaction)), importance_interaction)\n",
        "plt.title('Feature Importance Dengan Interaksi')\n",
        "plt.xticks(range(len(importance_interaction)), ['Feature 1', 'Feature 2', 'Feature 1 × Feature 2'])\n",
        "\n",
        "plt.tight_layout()\n",
        "plt.show()\n",
        "\n",
        "# 3. H-statistic untuk mengukur kekuatan interaksi\n",
        "def h_statistic_approximation(model, X, i, j, grid_resolution=50):\n",
        "    # Generate grid for features i and j\n",
        "    x_i_min, x_i_max = X[:, i].min(), X[:, i].max()\n",
        "    x_j_min, x_j_max = X[:, j].min(), X[:, j].max()\n",
        "\n",
        "    x_i_grid = np.linspace(x_i_min, x_i_max, grid_resolution)\n",
        "    x_j_grid = np.linspace(x_j_min, x_j_max, grid_resolution)\n",
        "\n",
        "    # Calculate partial dependence for individual features\n",
        "    pd_i = partial_dependence(model, X, [i])[1][0]  # Average effect of feature i\n",
        "    pd_j = partial_dependence(model, X, [j])[1][0]  # Average effect of feature j\n",
        "\n",
        "    # Calculate joint partial dependence\n",
        "    pd_ij = partial_dependence(model, X, [(i, j)])[1][0]  # Joint effect\n",
        "\n",
        "    # Reshape for calculation\n",
        "    pd_i_mesh, pd_j_mesh = np.meshgrid(pd_i, pd_j)\n",
        "    pd_sum = pd_i_mesh + pd_j_mesh\n",
        "\n",
        "    # Calculate H-statistic (approximation)\n",
        "    h_stat = np.sum((pd_ij - pd_sum) ** 2) / np.sum(pd_ij ** 2)\n",
        "\n",
        "    return h_stat\n",
        "\n",
        "# Calculate H-statistic for the RandomForest model\n",
        "h_stat = h_statistic_approximation(rf_model, X_train_scaled, 0, 1)\n",
        "print(f\"H-statistic for interaction between Feature 1 and Feature 2: {h_stat:.4f}\")"
      ],
      "metadata": {
        "id": "w7JPxgkKX1PT"
      },
      "execution_count": null,
      "outputs": []
    },
    {
      "cell_type": "markdown",
      "source": [
        "Metode domain knowledge lain yang dapat digunakan:\n",
        "\n",
        "1. **Analisis residual**: Mengevaluasi residual dari model dasar terhadap interaksi fitur.\n",
        "2. **Model-specific tests**: Seperti Likelihood Ratio Test antara model dengan dan tanpa interaksi.\n",
        "3. **RuleFit dan model interpretable lainnya**: Yang dapat membantu mengekstrak interaksi penting.\n",
        "4. **Target encoding conditioned on features**: Menganalisis bagaimana encoding target berubah ketika dikondisikan pada nilai fitur lain.\n",
        "\n",
        "## 5. Data Leakage dan Preprocessing Pipeline\n",
        "\n",
        "### 5.1 Masalah Oversampling Sebelum Train-Test Split\n",
        "\n",
        "Mari kita ilustrasikan masalah data leakage yang terjadi ketika oversampling dilakukan sebelum pembagian train-test:"
      ],
      "metadata": {
        "id": "gb_UL9DSYAkK"
      }
    },
    {
      "cell_type": "code",
      "source": [
        "from sklearn.datasets import make_classification\n",
        "from sklearn.model_selection import train_test_split\n",
        "from sklearn.ensemble import RandomForestClassifier\n",
        "from sklearn.metrics import roc_auc_score, precision_recall_curve, average_precision_score\n",
        "from imblearn.over_sampling import SMOTE\n",
        "\n",
        "# Membuat dataset imbalanced\n",
        "X, y = make_classification(\n",
        "    n_samples=10000,\n",
        "    n_features=10,\n",
        "    n_informative=5,\n",
        "    n_redundant=2,\n",
        "    n_classes=2,\n",
        "    weights=[0.95, 0.05],  # Class imbalance: 95% class 0, 5% class 1\n",
        "    random_state=42\n",
        ")\n",
        "\n",
        "# Tambahkan fitur timestamp (untuk mengilustrasikan temporal split)\n",
        "timestamps = np.sort(np.random.randint(0, 1000, size=len(y)))\n",
        "X_with_time = np.hstack((X, timestamps.reshape(-1, 1)))\n",
        "\n",
        "# Metode 1: Oversampling SEBELUM train-test split (SALAH)\n",
        "sm_wrong = SMOTE(random_state=42)\n",
        "X_resampled, y_resampled = sm_wrong.fit_resample(X, y)\n",
        "\n",
        "# Split data yang sudah di-oversample\n",
        "X_train_wrong, X_test_wrong, y_train_wrong, y_test_wrong = train_test_split(\n",
        "    X_resampled, y_resampled, test_size=0.3, random_state=42\n",
        ")\n",
        "\n",
        "# Metode 2: Oversampling SETELAH train-test split (BENAR)\n",
        "X_train_right, X_test_right, y_train_right, y_test_right = train_test_split(\n",
        "    X, y, test_size=0.3, random_state=42\n",
        ")\n",
        "\n",
        "sm_right = SMOTE(random_state=42)\n",
        "X_train_right_resampled, y_train_right_resampled = sm_right.fit_resample(X_train_right, y_train_right)\n",
        "\n",
        "# Metode 3: Temporal split (untuk kasus fraud detection)\n",
        "# Urutkan data berdasarkan timestamp\n",
        "temporal_idx = np.argsort(X_with_time[:, -1])\n",
        "X_sorted = X_with_time[temporal_idx]\n",
        "y_sorted = y[temporal_idx]\n",
        "\n",
        "# Pisahkan 70% pertama untuk training, 30% terakhir untuk testing\n",
        "train_size = int(0.7 * len(X_sorted))\n",
        "X_train_temporal = X_sorted[:train_size, :-1]  # Hapus timestamp\n",
        "X_test_temporal = X_sorted[train_size:, :-1]   # Hapus timestamp\n",
        "y_train_temporal = y_sorted[:train_size]\n",
        "y_test_temporal = y_sorted[train_size:]\n",
        "\n",
        "# Terapkan SMOTE hanya pada training data temporal\n",
        "sm_temporal = SMOTE(random_state=42)\n",
        "X_train_temporal_resampled, y_train_temporal_resampled = sm_temporal.fit_resample(\n",
        "    X_train_temporal, y_train_temporal\n",
        ")\n",
        "\n",
        "# Train dan evaluasi model untuk masing-masing metode\n",
        "def train_evaluate_model(X_train, y_train, X_test, y_test, title):\n",
        "    model = RandomForestClassifier(n_estimators=100, random_state=42)\n",
        "    model.fit(X_train, y_train)\n",
        "\n",
        "    # Prediksi probabilitas\n",
        "    y_prob_train = model.predict_proba(X_train)[:, 1]\n",
        "    y_prob_test = model.predict_proba(X_test)[:, 1]\n",
        "\n",
        "    # Hitung AUC-ROC\n",
        "    auc_train = roc_auc_score(y_train, y_prob_train)\n",
        "    auc_test = roc_auc_score(y_test, y_prob_test)\n",
        "\n",
        "    # Hitung Average Precision\n",
        "    ap_train = average_precision_score(y_train, y_prob_train)\n",
        "    ap_test = average_precision_score(y_test, y_prob_test)\n",
        "\n",
        "    print(f\"\\n{title}\")\n",
        "    print(f\"Training AUC-ROC: {auc_train:.4f}\")\n",
        "    print(f\"Testing AUC-ROC: {auc_test:.4f}\")\n",
        "    print(f\"Training Avg Precision: {ap_train:.4f}\")\n",
        "    print(f\"Testing Avg Precision: {ap_test:.4f}\")\n",
        "\n",
        "    # Plot ROC curve\n",
        "    fpr_train, tpr_train, _ = roc_curve(y_train, y_prob_train)\n",
        "    fpr_test, tpr_test, _ = roc_curve(y_test, y_prob_test)\n",
        "\n",
        "    plt.figure(figsize=(10, 5))\n",
        "    plt.subplot(1, 2, 1)\n",
        "    plt.plot(fpr_train, tpr_train, 'b-', label=f'Training (AUC = {auc_train:.4f})')\n",
        "    plt.plot(fpr_test, tpr_test, 'r-', label=f'Testing (AUC = {auc_test:.4f})')\n",
        "    plt.plot([0, 1], [0, 1], 'k--')\n",
        "    plt.xlabel('False Positive Rate')\n",
        "    plt.ylabel('True Positive Rate')\n",
        "    plt.title('ROC Curve')\n",
        "    plt.legend()\n",
        "\n",
        "    # Plot Precision-Recall curve\n",
        "    precision_train, recall_train, _ = precision_recall_curve(y_train, y_prob_train)\n",
        "    precision_test, recall_test, _ = precision_recall_curve(y_test, y_prob_test)\n",
        "\n",
        "    plt.subplot(1, 2, 2)\n",
        "    plt.plot(recall_train, precision_train, 'b-', label=f'Training (AP = {ap_train:.4f})')\n",
        "    plt.plot(recall_test, precision_test, 'r-', label=f'Testing (AP = {ap_test:.4f})')\n",
        "    plt.xlabel('Recall')\n",
        "    plt.ylabel('Precision')\n",
        "    plt.title('Precision-Recall Curve')\n",
        "    plt.legend()\n",
        "\n",
        "    plt.suptitle(title)\n",
        "    plt.tight_layout()\n",
        "    plt.show()\n",
        "\n",
        "    return auc_train, auc_test, ap_train, ap_test\n",
        "\n",
        "# Evaluasi ketiga metode\n",
        "auc_train_wrong, auc_test_wrong, ap_train_wrong, ap_test_wrong = train_evaluate_model(\n",
        "    X_train_wrong, y_train_wrong, X_test_wrong, y_test_wrong,\n",
        "    \"Oversampling SEBELUM Train-Test Split (Salah)\"\n",
        ")\n",
        "\n",
        "auc_train_right, auc_test_right, ap_train_right, ap_test_right = train_evaluate_model(\n",
        "    X_train_right_resampled, y_train_right_resampled, X_test_right, y_test_right,\n",
        "    \"Oversampling SETELAH Train-Test Split (Benar)\"\n",
        ")\n",
        "\n",
        "auc_train_temporal, auc_test_temporal, ap_train_temporal, ap_test_temporal = train_evaluate_model(\n",
        "    X_train_temporal_resampled, y_train_temporal_resampled, X_test_temporal, y_test_temporal,\n",
        "    \"Temporal Split dengan Oversampling pada Training Data\"\n",
        ")"
      ],
      "metadata": {
        "id": "z2R7Xy98YDa5"
      },
      "execution_count": null,
      "outputs": []
    },
    {
      "cell_type": "markdown",
      "source": [
        "### 5.2 Mengapa Temporal Split Lebih Aman untuk Fraud Detection\n",
        "\n",
        "Dalam konteks fraud detection, temporal split lebih aman karena beberapa alasan:"
      ],
      "metadata": {
        "id": "hPH47yYdYNR6"
      }
    },
    {
      "cell_type": "code",
      "source": [
        "# Visualisasi distribusi kelas fraud seiring waktu\n",
        "# Simulasi data fraud time series\n",
        "np.random.seed(42)\n",
        "n_samples = 1000\n",
        "timestamps = np.sort(np.random.randint(0, 365, size=n_samples))\n",
        "\n",
        "# Simulasi evolving fraud pattern\n",
        "base_fraud_rate = 0.05\n",
        "seasonal_component = 0.03 * np.sin(timestamps * 2 * np.pi / 365)\n",
        "trend_component = 0.01 * (timestamps / 365)\n",
        "\n",
        "# Fraud probability evolves over time\n",
        "fraud_prob = base_fraud_rate + seasonal_component + trend_component\n",
        "fraud_prob = np.clip(fraud_prob, 0.01, 0.2)  # Keep within reasonable bounds\n",
        "\n",
        "# Generate binary labels\n",
        "y_temporal = np.random.binomial(1, fraud_prob)\n",
        "\n",
        "# Visualize evolving fraud patterns\n",
        "plt.figure(figsize=(12, 6))\n",
        "\n",
        "# Plot fraud rate over time\n",
        "plt.subplot(2, 1, 1)\n",
        "plt.plot(timestamps, fraud_prob, 'b-')\n",
        "plt.title('Evolving Fraud Probability Over Time')\n",
        "plt.xlabel('Time (days)')\n",
        "plt.ylabel('Fraud Probability')\n",
        "\n",
        "# Plot moving average of actual fraud rate\n",
        "plt.subplot(2, 1, 2)\n",
        "window_size = 30\n",
        "moving_avg = []\n",
        "for i in range(len(timestamps) - window_size + 1):\n",
        "    moving_avg.append(np.mean(y_temporal[i:i+window_size]))\n",
        "\n",
        "plt.plot(timestamps[window_size-1:], moving_avg, 'r-')\n",
        "plt.title('30-day Moving Average of Fraud Rate')\n",
        "plt.xlabel('Time (days)')\n",
        "plt.ylabel('Fraud Rate')\n",
        "\n",
        "plt.tight_layout()\n",
        "plt.show()\n",
        "\n",
        "# Visualisasi Distribusi Kelas Pada Train vs Test dengan Split Biasa vs Temporal Split\n",
        "plt.figure(figsize=(12, 6))\n",
        "\n",
        "# Random split class distribution\n",
        "plt.subplot(1, 2, 1)\n",
        "_, X_test_random, _, y_test_random = train_test_split(X, y, test_size=0.3, random_state=42)\n",
        "sns.countplot(x=y_test_random)\n",
        "plt.title('Class Distribution in Test Set (Random Split)')\n",
        "plt.xlabel('Class')\n",
        "plt.ylabel('Count')\n",
        "\n",
        "# Temporal split class distribution\n",
        "plt.subplot(1, 2, 2)\n",
        "sns.countplot(x=y_test_temporal)\n",
        "plt.title('Class Distribution in Test Set (Temporal Split)')\n",
        "plt.xlabel('Class')\n",
        "plt.ylabel('Count')\n",
        "\n",
        "plt.tight_layout()\n",
        "plt.show()"
      ],
      "metadata": {
        "id": "NuPsZRVQYotF"
      },
      "execution_count": null,
      "outputs": []
    },
    {
      "cell_type": "markdown",
      "source": [
        "Temporal split lebih aman untuk fraud detection karena:\n",
        "\n",
        "1. **Concept Drift**: Pola fraud berevolusi seiring waktu. Penipuan yang berhasil cenderung diulang, dan pelaku penipuan beradaptasi terhadap deteksi.\n",
        "\n",
        "2. **Data Leakage Temporal**: Random split dapat memasukkan informasi \"masa depan\" ke dalam training data, yang tidak realistis dalam implementasi nyata.\n",
        "\n",
        "3. **Evaluasi Realistis**: Temporal split mengevaluasi model berdasarkan kemampuan untuk memprediksi pada data masa depan, yang merupakan skenario produksi nyata.\n",
        "\n",
        "4. **Distribusi yang Berubah**: Proporsi fraud dan karakteristiknya bisa berubah seiring waktu (misalnya, musiman atau tren).\n",
        "\n",
        "### 5.3 Bagaimana Stratified Sampling Dapat Memperparah Masalah"
      ],
      "metadata": {
        "id": "DLIT1GwiYpeS"
      }
    },
    {
      "cell_type": "code",
      "source": [
        "# Demonstrasikan masalah dengan stratified sampling dalam konteks time series\n",
        "from sklearn.model_selection import StratifiedKFold\n",
        "\n",
        "# Data dengan tren temporal yang kuat\n",
        "np.random.seed(42)\n",
        "n = 1000\n",
        "time = np.arange(n)\n",
        "X_trend = np.column_stack([\n",
        "    np.random.normal(size=n),  # Feature 1\n",
        "    np.random.normal(size=n),  # Feature 2\n",
        "    time / n  # Time feature (normalized)\n",
        "])\n",
        "\n",
        "# Target yang sangat berkorelasi dengan waktu\n",
        "# Probabilitas fraud meningkat dari 0.01 menjadi 0.2 seiring waktu\n",
        "fraud_prob_trend = 0.01 + 0.19 * (time / n)\n",
        "y_trend = np.random.binomial(1, fraud_prob_trend)\n",
        "\n",
        "# Visualisasi tren temporal\n",
        "plt.figure(figsize=(10, 6))\n",
        "plt.scatter(time, y_trend, alpha=0.3, c=y_trend, cmap='coolwarm')\n",
        "plt.plot(time, fraud_prob_trend, 'r-', label='Fraud Probability')\n",
        "plt.title('Fraud Label vs Time')\n",
        "plt.xlabel('Time')\n",
        "plt.ylabel('Fraud (1) vs Non-Fraud (0)')\n",
        "plt.legend()\n",
        "plt.show()\n",
        "\n",
        "# Demonstrasikan masalah stratified sampling dengan cross-validation\n",
        "skf = StratifiedKFold(n_splits=5, shuffle=True, random_state=42)\n",
        "\n",
        "# Plot distribusi waktu di setiap fold\n",
        "plt.figure(figsize=(15, 10))\n",
        "for i, (train_idx, test_idx) in enumerate(skf.split(X_trend, y_trend)):\n",
        "    plt.subplot(2, 3, i+1)\n",
        "    plt.hist(time[train_idx], bins=20, alpha=0.5, label='Train')\n",
        "    plt.hist(time[test_idx], bins=20, alpha=0.5, label='Test')\n",
        "    plt.title(f'Fold {i+1}: Time Distribution')\n",
        "    plt.xlabel('Time')\n",
        "    plt.ylabel('Count')\n",
        "    plt.legend()\n",
        "\n",
        "plt.tight_layout()\n",
        "plt.show()\n",
        "\n",
        "# Evaluasi model dengan stratified vs temporal CV\n",
        "from sklearn.model_selection import TimeSeriesSplit\n",
        "\n",
        "# 1. Stratified CV\n",
        "results_stratified = []\n",
        "skf = StratifiedKFold(n_splits=5, shuffle=True, random_state=42)\n",
        "\n",
        "for train_idx, test_idx in skf.split(X_trend, y_trend):\n",
        "    X_train, X_test = X_trend[train_idx], X_trend[test_idx]\n",
        "    y_train, y_test = y_trend[train_idx], y_trend[test_idx]\n",
        "\n",
        "    # Train model\n",
        "    model = RandomForestClassifier(n_estimators=50, random_state=42)\n",
        "    model.fit(X_train, y_train)\n",
        "\n",
        "    # Evaluate\n",
        "    y_prob = model.predict_proba(X_test)[:, 1]\n",
        "    auc = roc_auc_score(y_test, y_prob)\n",
        "    results_stratified.append(auc)\n",
        "\n",
        "# 2. Temporal CV\n",
        "results_temporal = []\n",
        "tscv = TimeSeriesSplit(n_splits=5)\n",
        "\n",
        "for train_idx, test_idx in tscv.split(X_trend):\n",
        "    X_train, X_test = X_trend[train_idx], X_trend[test_idx]\n",
        "    y_train, y_test = y_trend[train_idx], y_trend[test_idx]\n",
        "\n",
        "    # Train model\n",
        "    model = RandomForestClassifier(n_estimators=50, random_state=42)\n",
        "    model.fit(X_train, y_train)\n",
        "\n",
        "    # Evaluate\n",
        "    y_prob = model.predict_proba(X_test)[:, 1]\n",
        "    auc = roc_auc_score(y_test, y_prob)\n",
        "    results_temporal.append(auc)\n",
        "\n",
        "# Compare results\n",
        "print(f\"Stratified CV average AUC: {np.mean(results_stratified):.4f} ± {np.std(results_stratified):.4f}\")\n",
        "print(f\"Temporal CV average AUC: {np.mean(results_temporal):.4f} ± {np.std(results_temporal):.4f}\")"
      ],
      "metadata": {
        "id": "dglhCVdgYszD"
      },
      "execution_count": null,
      "outputs": []
    },
    {
      "cell_type": "markdown",
      "source": [
        "### Stratified sampling dapat memperparah masalah karena:\n",
        "\n",
        "1. **Mengabaikan Urutan Temporal**: Dengan mempertahankan distribusi kelas yang sama di training dan test, stratified sampling mengabaikan evolusi pola fraud seiring waktu.\n",
        "\n",
        "2. **Data Leakage Terstruktur**: Dalam kasus fraud, stratified sampling dapat memasukkan sampel fraud \"masa depan\" ke dalam training data, yang mengekspos model pada pola yang belum muncul pada saat prediksi.\n",
        "\n",
        "3. **Evaluasi Tidak Realistis**: Performa model menjadi sangat optimistis dan tidak mencerminkan kondisi nyata.\n",
        "\n",
        "### Pipeline Preprocessing yang Benar untuk Evaluasi Realistis\n",
        "#### 1. Temporal Split Terlebih Dahulu:\n",
        "-  Pisahkan data berdasarkan timestamp (70% awal untuk training, 30% akhir untuk testing)\n",
        "-  Pastikan tidak ada overlap temporal antara train dan test set\n",
        "\n",
        "#### 2. Oversampling Hanya pada Training Data:\n",
        "-  Terapkan SMOTE atau teknik oversampling lain hanya pada training data\n",
        "Test set harus tetap mencerminkan distribusi fraud alami\n",
        "#### 3. Feature Engineering yang Tepat:\n",
        "- Perhatikan fitur temporal (hari dalam seminggu, musiman, tren)\n",
        "Buat fitur agregat berdasarkan jendela waktu (misalnya: jumlah transaksi dalam 24 jam terakhir)\n",
        "#### 4. Evaluasi dengan Metrik yang Tepat:\n",
        "- Gunakan Precision-Recall curve daripada hanya ROC karena lebih sensitif terhadap kelas minoritas\n",
        "- Pantau Average Precision dan F1-score pada berbagai threshold\n",
        "- Evaluasi performa pada segmen temporal berbeda untuk mendeteksi penurunan performa\n",
        "#### 5. Validasi dengan Time-Series Cross-Validation:\n",
        "- Gunakan TimeSeriesSplit bukan StratifiedKFold\n",
        "- Memastikan validasi tetap mempertahankan urutan kronologis\n",
        "\n",
        "\n",
        "\n",
        "Dengan pipeline preprocessing yang benar, evaluasi metrik Presisi/Recall akan mencerminkan performa model yang realistis dalam mendeteksi fraud dalam kondisi nyata, dan menghindari estimasi yang terlalu optimistis akibat data leakage."
      ],
      "metadata": {
        "id": "6VMOPFftYzDa"
      }
    }
  ],
  "metadata": {
    "colab": {
      "provenance": []
    },
    "kernelspec": {
      "display_name": "Python 3",
      "name": "python3"
    },
    "language_info": {
      "name": "python"
    }
  },
  "nbformat": 4,
  "nbformat_minor": 0
}