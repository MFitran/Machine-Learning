{
 "cells": [
  {
   "cell_type": "markdown",
   "id": "bc7ecc31",
   "metadata": {},
   "source": [
    "# Model Klasifikasi Multi-Kelas Logistic Regression untuk Prediksi Penyakit Jantung\n",
    "\n",
    "Notebook ini menunjukkan implementasi **Logistic Regression** menggunakan pustaka `scikit-learn` dan `mglearn` untuk memprediksi tahap penyakit jantung berdasarkan fitur yang tersedia.\n",
    "\n",
    "Model ini akan dievaluasi menggunakan metrik berikut:\n",
    "\n",
    "- **Akurasi**\n",
    "- **Presisi (macro & weighted)**\n",
    "- **Recall (macro & weighted)**\n",
    "- **F1-Score (macro & weighted)**\n",
    "- **AUC (Area Under Curve) untuk setiap kelas**\n",
    "- **ROC (Receiver Operating Characteristic Curve) multi-kelas**\n",
    "\n",
    "Selain itu, setiap rumus yang digunakan akan dijelaskan secara matematis.\n"
   ]
  },
  {
   "cell_type": "code",
   "execution_count": null,
   "id": "1f0b8975",
   "metadata": {},
   "outputs": [],
   "source": [
    "import pandas as pd\n",
    "import numpy as np\n",
    "import matplotlib.pyplot as plt\n",
    "import seaborn as sns\n",
    "from sklearn.model_selection import train_test_split\n",
    "from sklearn.linear_model import LogisticRegression\n",
    "from sklearn.metrics import accuracy_score, precision_score, recall_score, f1_score, roc_auc_score, roc_curve\n",
    "import mglearn\n",
    "\n",
    "# Mengatur gaya tampilan grafik\n",
    "sns.set_style(\"whitegrid\")\n"
   ]
  },
  {
   "cell_type": "markdown",
   "id": "ca9ef9bb",
   "metadata": {},
   "source": [
    "## 1. Memuat dan Menampilkan Dataset\n",
    "\n",
    "Kita akan memuat dataset dan melihat struktur datanya.\n"
   ]
  },
  {
   "cell_type": "code",
   "execution_count": null,
   "id": "12fb6e93",
   "metadata": {},
   "outputs": [],
   "source": [
    "df = pd.read_csv(\"/mnt/data/HeartDisease.csv\")"
   ]
  },
  {
   "cell_type": "markdown",
   "id": "9bde297e",
   "metadata": {},
   "source": [
    "## 2. Pra-pemrosesan Data\n",
    "\n",
    "Agar model dapat bekerja dengan baik, kita melakukan beberapa langkah berikut:\n",
    "- Menghapus nilai yang hilang (NaN)\n"
   ]
  },
  {
   "cell_type": "code",
   "execution_count": null,
   "id": "c8904488",
   "metadata": {},
   "outputs": [],
   "source": [
    "# Menghapus nilai NaN jika ada\n",
    "df.dropna(inplace=True)\n",
    "\n",
    "# Menampilkan jumlah data setelah pembersihan\n",
    "df.info()\n"
   ]
  },
  {
   "cell_type": "markdown",
   "id": "893b87fc",
   "metadata": {},
   "source": [
    "## 3. Memisahkan Data Latih dan Data Uji\n",
    "\n",
    "Kita akan membagi dataset menjadi **data latih (80%)** dan **data uji (20%)**.\n"
   ]
  },
  {
   "cell_type": "code",
   "execution_count": null,
   "id": "ccdcdf5d",
   "metadata": {},
   "outputs": [],
   "source": [
    "# Mendefinisikan fitur dan target untuk multi-kelas\n",
    "X = df.drop(columns=[\"target\"])\n",
    "y = df[\"target\"]\n",
    "\n",
    "# Membagi dataset menjadi 80% latih dan 20% uji\n",
    "X_train, X_test, y_train, y_test = train_test_split(X, y, test_size=0.2, random_state=42, stratify=y)\n",
    "\n",
    "# Menampilkan jumlah data per kelas setelah pembagian\n",
    "print(\"Distribusi kelas dalam data latih:\\n\", y_train.value_counts())\n",
    "print(\"Distribusi kelas dalam data uji:\\n\", y_test.value_counts())\n"
   ]
  },
  {
   "cell_type": "markdown",
   "id": "f0e7e2db",
   "metadata": {},
   "source": [
    "## 4. Melatih Model Logistic Regression\n",
    "\n",
    "Model logistic regression akan dipelajari berdasarkan data latih yang telah dibagi sebelumnya.\n"
   ]
  },
  {
   "cell_type": "code",
   "execution_count": null,
   "id": "fb338675",
   "metadata": {},
   "outputs": [],
   "source": [
    "# Inisialisasi dan pelatihan model\n",
    "model = LogisticRegression(max_iter=1000)\n",
    "model.fit(X_train, y_train)\n",
    "\n",
    "# Menampilkan koefisien model\n",
    "print(\"Koefisien model:\", model.coef_)\n",
    "print(\"Intercept model:\", model.intercept_)\n"
   ]
  },
  {
   "cell_type": "markdown",
   "id": "0dca22ba",
   "metadata": {},
   "source": [
    "## 5. Melakukan Prediksi\n",
    "\n",
    "Setelah model dilatih, kita akan menggunakannya untuk memprediksi data uji.\n"
   ]
  },
  {
   "cell_type": "code",
   "execution_count": null,
   "id": "0a40d176",
   "metadata": {},
   "outputs": [],
   "source": [
    "# Melakukan prediksi\n",
    "y_pred = model.predict(X_test)\n",
    "\n",
    "# Menampilkan 5 hasil prediksi pertama\n",
    "print(\"Prediksi pertama:\", y_pred[:5])\n"
   ]
  },
  {
   "cell_type": "markdown",
   "id": "6ac48a8c",
   "metadata": {},
   "source": [
    "## 6. Evaluasi Model\n",
    "\n",
    "Kita akan mengevaluasi model menggunakan enam metrik utama:\n",
    "\n",
    "### 6.1 Akurasi\n",
    "\\[ Accuracy = \\frac{TP + TN}{TP + TN + FP + FN} \\]\n",
    "Akurasi menunjukkan seberapa sering model membuat prediksi yang benar.\n",
    "\n",
    "### 6.2 Presisi\n",
    "\\[ Precision = \\frac{TP}{TP + FP} \\]\n",
    "Presisi mengukur seberapa banyak prediksi positif yang benar dibandingkan dengan semua prediksi positif.\n",
    "\n",
    "### 6.3 Recall\n",
    "\\[ Recall = \\frac{TP}{TP + FN} \\]\n",
    "Recall mengukur seberapa banyak sampel positif yang benar-benar terdeteksi oleh model.\n",
    "\n",
    "### 6.4 F1-Score\n",
    "\\[ F1 = 2 \\times \\frac{Precision \\times Recall}{Precision + Recall} \\]\n",
    "F1-Score adalah rata-rata harmonik antara presisi dan recall.\n",
    "\n",
    "### 6.5 AUC (Area Under Curve)\n",
    "AUC mengukur seberapa baik model membedakan antara kelas positif dan negatif.\n",
    "\n",
    "### 6.6 ROC (Receiver Operating Characteristic Curve)\n",
    "ROC adalah kurva yang menunjukkan hubungan antara True Positive Rate (TPR) dan False Positive Rate (FPR).\n"
   ]
  },
  {
   "cell_type": "code",
   "execution_count": null,
   "id": "bec5ee4d",
   "metadata": {},
   "outputs": [],
   "source": [
    "from sklearn.preprocessing import label_binarize\n",
    "from sklearn.metrics import classification_report\n",
    "\n",
    "# Melakukan prediksi probabilitas untuk setiap kelas\n",
    "y_pred_proba = model.predict_proba(X_test)\n",
    "y_pred = model.predict(X_test)\n",
    "\n",
    "# Binarisasi target untuk multi-class ROC\n",
    "classes = np.unique(y_test)\n",
    "y_test_binarized = label_binarize(y_test, classes=classes)\n",
    "\n",
    "# Menghitung metrik evaluasi\n",
    "accuracy = accuracy_score(y_test, y_pred)\n",
    "precision_macro = precision_score(y_test, y_pred, average=\"macro\")\n",
    "recall_macro = recall_score(y_test, y_pred, average=\"macro\")\n",
    "f1_macro = f1_score(y_test, y_pred, average=\"macro\")\n",
    "auc_multi = roc_auc_score(y_test_binarized, y_pred_proba, multi_class='ovo')\n",
    "\n",
    "# Menampilkan hasil evaluasi\n",
    "print(f\"Akurasi: {accuracy:.3f}\")\n",
    "print(f\"Presisi (Macro): {precision_macro:.3f}\")\n",
    "print(f\"Recall (Macro): {recall_macro:.3f}\")\n",
    "print(f\"F1-Score (Macro): {f1_macro:.3f}\")\n",
    "print(f\"AUC Multi-Class: {auc_multi:.3f}\")\n",
    "\n",
    "# Menampilkan laporan klasifikasi lengkap\n",
    "print(\"\\nLaporan Klasifikasi:\\n\", classification_report(y_test, y_pred))\n",
    "\n",
    "# Plot ROC Curve untuk setiap kelas\n",
    "plt.figure(figsize=(8, 6))\n",
    "for i in range(len(classes)):\n",
    "    fpr, tpr, _ = roc_curve(y_test_binarized[:, i], y_pred_proba[:, i])\n",
    "    plt.plot(fpr, tpr, label=f\"Class {classes[i]} (AUC = {roc_auc_score(y_test_binarized[:, i], y_pred_proba[:, i]):.3f})\")\n",
    "\n",
    "plt.plot([0, 1], [0, 1], linestyle=\"--\", color=\"gray\")\n",
    "plt.xlabel(\"False Positive Rate (FPR)\")\n",
    "plt.ylabel(\"True Positive Rate (TPR)\")\n",
    "plt.title(\"ROC Curve Multi-Class\")\n",
    "plt.legend()\n",
    "plt.show()\n"
   ]
  }
 ],
 "metadata": {},
 "nbformat": 4,
 "nbformat_minor": 5
}
