
{
 "cells": [
  {
   "cell_type": "markdown",
   "id": "9b1cd682",
   "metadata": {},
   "source": [
    "# Linear Regression Model for Automobile Dataset\n",
    "\n",
    "This notebook demonstrates the implementation of a Linear Regression model using `scikit-learn` and `mglearn` to predict the `symboling` variable. The model is evaluated using **Mean Squared Error (MSE)**, **Root Mean Squared Error (RMSE)**, and **R-Squared (R²)**.\n",
    "\n",
    "## 1. Import Libraries\n",
    "We start by importing the necessary libraries.\n"
   ]
  },
  {
   "cell_type": "code",
   "execution_count": null,
   "id": "d387ee73",
   "metadata": {},
   "outputs": [],
   "source": [
    "import pandas as pd\n",
    "import numpy as np\n",
    "import matplotlib.pyplot as plt\n",
    "import seaborn as sns\n",
    "from sklearn.model_selection import train_test_split\n",
    "from sklearn.linear_model import LinearRegression\n",
    "from sklearn.metrics import mean_squared_error, r2_score\n",
    "import mglearn\n",
    "\n",
    "# Set plot style\n",
    "sns.set_style(\"whitegrid\")\n"
   ]
  },
  {
   "cell_type": "markdown",
   "id": "aad7babd",
   "metadata": {},
   "source": [
    "## 2. Load and Explore Dataset\n",
    "We load the dataset and inspect its structure.\n"
   ]
  },
  {
   "cell_type": "code",
   "execution_count": null,
   "id": "20857c98",
   "metadata": {},
   "outputs": [],
   "source": [
    "# Load dataset\n",
    "df = pd.read_csv(\"/mnt/data/Automobile.csv\")\n",
    "\n",
    "# Display first few rows\n",
    "df.head()\n"
   ]
  },
  {
   "cell_type": "markdown",
   "id": "222c8d5d",
   "metadata": {},
   "source": [
    "## 3. Data Preprocessing\n",
    "- Drop non-numeric columns.\n",
    "- Remove missing values.\n"
   ]
  },
  {
   "cell_type": "code",
   "execution_count": null,
   "id": "2c0e2bcf",
   "metadata": {},
   "outputs": [],
   "source": [
    "# Drop non-numeric columns and handle missing values\n",
    "df_numeric = df.select_dtypes(include=[np.number]).dropna()\n",
    "\n",
    "# Define features and target variable\n",
    "X = df_numeric.drop(columns=[\"symboling\"])\n",
    "y = df_numeric[\"symboling\"]\n",
    "\n",
    "# Split data into training and testing sets\n",
    "X_train, X_test, y_train, y_test = train_test_split(X, y, test_size=0.2, random_state=42)\n"
   ]
  },
  {
   "cell_type": "markdown",
   "id": "b5164385",
   "metadata": {},
   "source": [
    "## 4. Train Linear Regression Model\n",
    "We use `scikit-learn` to train a linear regression model.\n"
   ]
  },
  {
   "cell_type": "code",
   "execution_count": null,
   "id": "b49a8949",
   "metadata": {},
   "outputs": [],
   "source": [
    "# Initialize and train the model\n",
    "model = LinearRegression()\n",
    "model.fit(X_train, y_train)\n",
    "\n",
    "# Make predictions\n",
    "y_pred = model.predict(X_test)\n"
   ]
  },
  {
   "cell_type": "markdown",
   "id": "0419f5fa",
   "metadata": {},
   "source": [
    "## 5. Model Evaluation\n",
    "We evaluate the model using:\n",
    "\n",
    "- **Mean Squared Error (MSE)**: \\( MSE = \\frac{1}{n} \\sum (y_i - \\hat{y_i})^2 \\)\n",
    "- **Root Mean Squared Error (RMSE)**: \\( RMSE = \\sqrt{MSE} \\)\n",
    "- **R-Squared (R²)**: \\( R^2 = 1 - \\frac{SS_{res}}{SS_{tot}} \\)\n"
   ]
  },
  {
   "cell_type": "code",
   "execution_count": null,
   "id": "00629bc1",
   "metadata": {},
   "outputs": [],
   "source": [
    "# Compute evaluation metrics\n",
    "mse = mean_squared_error(y_test, y_pred)\n",
    "rmse = np.sqrt(mse)\n",
    "r2 = r2_score(y_test, y_pred)\n",
    "\n",
    "print(f\"MSE: {mse:.3f}\")\n",
    "print(f\"RMSE: {rmse:.3f}\")\n",
    "print(f\"R²: {r2:.3f}\")\n"
   ]
  }
 ],
 "metadata": {},
 "nbformat": 4,
 "nbformat_minor": 5
}
